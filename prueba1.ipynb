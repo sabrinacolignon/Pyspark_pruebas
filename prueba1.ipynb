{
 "cells": [
  {
   "cell_type": "markdown",
   "id": "c807397e-4135-4d65-a285-c3f17b7cc640",
   "metadata": {},
   "source": [
    "# Puebas"
   ]
  },
  {
   "cell_type": "code",
   "execution_count": 5,
   "id": "626d86d3-47b5-4c8a-ad2c-856942d37356",
   "metadata": {
    "scrolled": true
   },
   "outputs": [
    {
     "name": "stdout",
     "output_type": "stream",
     "text": [
      "Requirement already satisfied: pyspark in /usr/local/spark/python (3.5.0)\n",
      "Collecting py4j==0.10.9.7 (from pyspark)\n",
      "  Downloading py4j-0.10.9.7-py2.py3-none-any.whl.metadata (1.5 kB)\n",
      "Downloading py4j-0.10.9.7-py2.py3-none-any.whl (200 kB)\n",
      "\u001b[2K   \u001b[90m━━━━━━━━━━━━━━━━━━━━━━━━━━━━━━━━━━━━━━━━\u001b[0m \u001b[32m200.5/200.5 kB\u001b[0m \u001b[31m2.9 MB/s\u001b[0m eta \u001b[36m0:00:00\u001b[0ma \u001b[36m0:00:01\u001b[0m\n",
      "\u001b[?25hInstalling collected packages: py4j\n",
      "Successfully installed py4j-0.10.9.7\n"
     ]
    }
   ],
   "source": [
    "# !pip install pyspark"
   ]
  },
  {
   "cell_type": "code",
   "execution_count": 1,
   "id": "dcf5d93c-9997-4f3a-b01d-de746bb7cd3f",
   "metadata": {},
   "outputs": [],
   "source": [
    "import pyspark\n",
    "from pyspark.sql import SparkSession\n",
    "import time"
   ]
  },
  {
   "cell_type": "code",
   "execution_count": 2,
   "id": "26261747-a6b0-4245-9ad9-f5adbb5c5af9",
   "metadata": {},
   "outputs": [
    {
     "name": "stdout",
     "output_type": "stream",
     "text": [
      "<pyspark.sql.session.SparkSession object at 0x7fe36d8d3c10>\n"
     ]
    }
   ],
   "source": [
    "spark = SparkSession.builder \\\n",
    "    .appName(\"Pruebas_Sabri1\") \\\n",
    "    .getOrCreate()\n",
    "\n",
    "# Verificar que la sesión se ha creado correctamente\n",
    "print(spark)"
   ]
  },
  {
   "cell_type": "markdown",
   "id": "560a4b33-200e-4966-93bd-f5d6784b3a3a",
   "metadata": {},
   "source": [
    "Importo las funciones de SQL"
   ]
  },
  {
   "cell_type": "code",
   "execution_count": 3,
   "id": "a78606eb-426c-4a58-9d5a-7f62d3af536e",
   "metadata": {},
   "outputs": [],
   "source": [
    "import pyspark.sql.functions as F"
   ]
  },
  {
   "cell_type": "code",
   "execution_count": 4,
   "id": "c000423d-e256-4da6-9baa-7c5ffd5531c5",
   "metadata": {},
   "outputs": [],
   "source": [
    "archivo = './data/Sample_Data_1500_Rows.csv'"
   ]
  },
  {
   "cell_type": "code",
   "execution_count": 5,
   "id": "966e2474-fbe9-4349-aa47-98e65509355f",
   "metadata": {},
   "outputs": [
    {
     "name": "stdout",
     "output_type": "stream",
     "text": [
      "True\n"
     ]
    }
   ],
   "source": [
    "import os\n",
    "print(os.path.exists(archivo))"
   ]
  },
  {
   "cell_type": "code",
   "execution_count": 6,
   "id": "e6c8505d-f7c0-4003-a44d-0b640bf47d4d",
   "metadata": {},
   "outputs": [],
   "source": [
    "df_spark = spark.read.csv(archivo, inferSchema=True, header=True)"
   ]
  },
  {
   "cell_type": "code",
   "execution_count": 7,
   "id": "dd9ff839-6ea3-473c-85f5-6d214dd1920b",
   "metadata": {},
   "outputs": [
    {
     "name": "stdout",
     "output_type": "stream",
     "text": [
      "<class 'pyspark.sql.dataframe.DataFrame'>\n"
     ]
    }
   ],
   "source": [
    "print(type(df_spark))"
   ]
  },
  {
   "cell_type": "code",
   "execution_count": 8,
   "id": "a026d082-b07a-4197-80d4-ab2c76d7a8e4",
   "metadata": {
    "scrolled": true
   },
   "outputs": [
    {
     "name": "stdout",
     "output_type": "stream",
     "text": [
      "+---+-------+---+\n",
      "| id|   name|age|\n",
      "+---+-------+---+\n",
      "|  1|  Alice| 61|\n",
      "|  2|  David| 36|\n",
      "|  3|    Bob| 36|\n",
      "|  4|  Alice| 40|\n",
      "|  5|  David| 33|\n",
      "|  6|  David| 33|\n",
      "|  7|  David| 46|\n",
      "|  8|  David| 25|\n",
      "|  9|    Bob| 45|\n",
      "| 10|  David| 42|\n",
      "| 11|    Bob| 42|\n",
      "| 12|Charlie| 30|\n",
      "| 13|  Alice| 31|\n",
      "| 14|  David| 36|\n",
      "| 15|Charlie| 32|\n",
      "| 16|  Alice| 32|\n",
      "| 17|  Alice| 38|\n",
      "| 18|  Alice| 25|\n",
      "| 19|Charlie| 62|\n",
      "| 20|    Bob| 61|\n",
      "+---+-------+---+\n",
      "only showing top 20 rows\n",
      "\n"
     ]
    }
   ],
   "source": [
    "df_spark.show()"
   ]
  },
  {
   "cell_type": "code",
   "execution_count": 9,
   "id": "0f276692-49b3-47dd-8396-0e73c3c59d64",
   "metadata": {},
   "outputs": [
    {
     "name": "stdout",
     "output_type": "stream",
     "text": [
      "El número de filas en el DataFrame es: 1500\n"
     ]
    }
   ],
   "source": [
    "row_count = df_spark.count()\n",
    "print(f\"El número de filas en el DataFrame es: {row_count}\")"
   ]
  },
  {
   "cell_type": "code",
   "execution_count": 13,
   "id": "eef84520-1c6a-44be-8f37-bd67741a7781",
   "metadata": {},
   "outputs": [
    {
     "data": {
      "text/plain": [
       "['id', 'name', 'age']"
      ]
     },
     "execution_count": 13,
     "metadata": {},
     "output_type": "execute_result"
    }
   ],
   "source": [
    "df_spark.columns"
   ]
  },
  {
   "cell_type": "markdown",
   "id": "3167f2cf-a48b-4376-82c4-2ddaef5bc8eb",
   "metadata": {},
   "source": [
    "Estructura del dataframe"
   ]
  },
  {
   "cell_type": "code",
   "execution_count": 12,
   "id": "9353a8d9-f37b-41ff-9e84-2628317c8715",
   "metadata": {},
   "outputs": [
    {
     "name": "stdout",
     "output_type": "stream",
     "text": [
      "root\n",
      " |-- id: integer (nullable = true)\n",
      " |-- name: string (nullable = true)\n",
      " |-- age: integer (nullable = true)\n",
      "\n"
     ]
    }
   ],
   "source": [
    "df_spark.printSchema()"
   ]
  },
  {
   "cell_type": "markdown",
   "id": "758d0a7d-bda9-442f-9462-e6afc9553190",
   "metadata": {},
   "source": [
    "# Estadísticas"
   ]
  },
  {
   "cell_type": "code",
   "execution_count": 10,
   "id": "ad12921e-e6fd-4cc5-9238-c3b38d5b3d94",
   "metadata": {},
   "outputs": [
    {
     "name": "stdout",
     "output_type": "stream",
     "text": [
      "+-------+------------------+-----+-----------------+\n",
      "|summary|                id| name|              age|\n",
      "+-------+------------------+-----+-----------------+\n",
      "|  count|              1500| 1500|             1500|\n",
      "|   mean|             750.5| NULL|           41.086|\n",
      "| stddev|433.15701541127095| NULL|13.40322230829202|\n",
      "|    min|                 1|Alice|               18|\n",
      "|    max|              1500|David|               64|\n",
      "+-------+------------------+-----+-----------------+\n",
      "\n"
     ]
    }
   ],
   "source": [
    "df_spark.describe().show()"
   ]
  },
  {
   "cell_type": "code",
   "execution_count": 14,
   "id": "a55420e4-98c4-4997-af56-956d12109bca",
   "metadata": {
    "scrolled": true
   },
   "outputs": [
    {
     "data": {
      "text/html": [
       "<div>\n",
       "<style scoped>\n",
       "    .dataframe tbody tr th:only-of-type {\n",
       "        vertical-align: middle;\n",
       "    }\n",
       "\n",
       "    .dataframe tbody tr th {\n",
       "        vertical-align: top;\n",
       "    }\n",
       "\n",
       "    .dataframe thead th {\n",
       "        text-align: right;\n",
       "    }\n",
       "</style>\n",
       "<table border=\"1\" class=\"dataframe\">\n",
       "  <thead>\n",
       "    <tr style=\"text-align: right;\">\n",
       "      <th></th>\n",
       "      <th>0</th>\n",
       "      <th>1</th>\n",
       "      <th>2</th>\n",
       "      <th>3</th>\n",
       "      <th>4</th>\n",
       "    </tr>\n",
       "  </thead>\n",
       "  <tbody>\n",
       "    <tr>\n",
       "      <th>summary</th>\n",
       "      <td>count</td>\n",
       "      <td>mean</td>\n",
       "      <td>stddev</td>\n",
       "      <td>min</td>\n",
       "      <td>max</td>\n",
       "    </tr>\n",
       "    <tr>\n",
       "      <th>id</th>\n",
       "      <td>1500</td>\n",
       "      <td>750.5</td>\n",
       "      <td>433.15701541127095</td>\n",
       "      <td>1</td>\n",
       "      <td>1500</td>\n",
       "    </tr>\n",
       "    <tr>\n",
       "      <th>name</th>\n",
       "      <td>1500</td>\n",
       "      <td>None</td>\n",
       "      <td>None</td>\n",
       "      <td>Alice</td>\n",
       "      <td>David</td>\n",
       "    </tr>\n",
       "    <tr>\n",
       "      <th>age</th>\n",
       "      <td>1500</td>\n",
       "      <td>41.086</td>\n",
       "      <td>13.40322230829202</td>\n",
       "      <td>18</td>\n",
       "      <td>64</td>\n",
       "    </tr>\n",
       "  </tbody>\n",
       "</table>\n",
       "</div>"
      ],
      "text/plain": [
       "             0       1                   2      3      4\n",
       "summary  count    mean              stddev    min    max\n",
       "id        1500   750.5  433.15701541127095      1   1500\n",
       "name      1500    None                None  Alice  David\n",
       "age       1500  41.086   13.40322230829202     18     64"
      ]
     },
     "execution_count": 14,
     "metadata": {},
     "output_type": "execute_result"
    }
   ],
   "source": [
    "df_spark.describe().toPandas().transpose()"
   ]
  },
  {
   "cell_type": "markdown",
   "id": "be707773-266e-4048-b526-74f6f6a64a2c",
   "metadata": {},
   "source": [
    "Descripción estadística de una columna"
   ]
  },
  {
   "cell_type": "code",
   "execution_count": 15,
   "id": "81c57cfe-48ce-422e-9860-5e965654d48f",
   "metadata": {},
   "outputs": [
    {
     "name": "stdout",
     "output_type": "stream",
     "text": [
      "+-------+-----------------+\n",
      "|summary|              age|\n",
      "+-------+-----------------+\n",
      "|  count|             1500|\n",
      "|   mean|           41.086|\n",
      "| stddev|13.40322230829202|\n",
      "|    min|               18|\n",
      "|    max|               64|\n",
      "+-------+-----------------+\n",
      "\n"
     ]
    }
   ],
   "source": [
    "df_spark.describe(['age']).show()"
   ]
  },
  {
   "cell_type": "code",
   "execution_count": 16,
   "id": "24c1fb91-c20e-427f-81d0-49da83d9a2c4",
   "metadata": {},
   "outputs": [
    {
     "data": {
      "text/plain": [
       "1501500"
      ]
     },
     "execution_count": 16,
     "metadata": {},
     "output_type": "execute_result"
    }
   ],
   "source": [
    "df_test = df_spark\n",
    "for i in range (1000):\n",
    "    df_test = df_test.union(df_spark)\n",
    "df_test.count()"
   ]
  },
  {
   "cell_type": "code",
   "execution_count": 22,
   "id": "34cc8fb2-f772-4e18-be05-00a93e9c8606",
   "metadata": {},
   "outputs": [],
   "source": [
    "tabla_temp = \"tabla_temp\"\n",
    "df_spark.createOrReplaceTempView(tabla_temp)"
   ]
  },
  {
   "cell_type": "code",
   "execution_count": 23,
   "id": "4170d9dd-2a7a-45c9-9e42-f8fd45d41bc6",
   "metadata": {},
   "outputs": [],
   "source": [
    "consulta1 = spark.sql(f\"DESCRIBE TABLE {tabla_temp}\")"
   ]
  },
  {
   "cell_type": "code",
   "execution_count": 24,
   "id": "4e2efe57-caa0-42f4-a728-e266f8f6a5bb",
   "metadata": {},
   "outputs": [
    {
     "name": "stdout",
     "output_type": "stream",
     "text": [
      "+--------+---------+\n",
      "|col_name|data_type|\n",
      "+--------+---------+\n",
      "|      id|      int|\n",
      "|    name|   string|\n",
      "|     age|      int|\n",
      "+--------+---------+\n",
      "\n"
     ]
    }
   ],
   "source": [
    "# Seleccionar las columnas necesarias y aplicar los filtros\n",
    "consulta1 = consulta1.select(\"col_name\", \"data_type\").filter(\n",
    "    (F.col(\"col_name\") != \"cod_mes\") & (~F.col(\"col_name\").like(\"%#%\")))\n",
    "\n",
    "# Mostrar el resultado\n",
    "consulta1.show()"
   ]
  },
  {
   "cell_type": "markdown",
   "id": "f3d1bbba-7b06-411e-9967-af0374c2d926",
   "metadata": {},
   "source": [
    "Verifico con una consulta de SQL si hay valores nulos"
   ]
  },
  {
   "cell_type": "code",
   "execution_count": 25,
   "id": "c4aa3585-6c95-410b-b918-864d9ab74c84",
   "metadata": {},
   "outputs": [
    {
     "name": "stdout",
     "output_type": "stream",
     "text": [
      "+---+----+---+\n",
      "| id|name|age|\n",
      "+---+----+---+\n",
      "|  0|   0|  0|\n",
      "+---+----+---+\n",
      "\n"
     ]
    }
   ],
   "source": [
    "df_test.select([F.count(F.when(F.col(c).isNull(), c)).alias(c) for c in df_spark.columns]).show()"
   ]
  },
  {
   "cell_type": "markdown",
   "id": "f5df273a-62c7-47d7-a274-2fa0acfea97d",
   "metadata": {},
   "source": [
    "En vez de usar vistas temporales para realizar las consultas, uso las API de DataFrame de PySpark"
   ]
  },
  {
   "cell_type": "code",
   "execution_count": 27,
   "id": "60949379-368e-4639-a51b-637e46ce1493",
   "metadata": {},
   "outputs": [
    {
     "name": "stdout",
     "output_type": "stream",
     "text": [
      "+---+---+\n",
      "| id|age|\n",
      "+---+---+\n",
      "|  1| 61|\n",
      "|  2| 36|\n",
      "|  3| 36|\n",
      "|  4| 40|\n",
      "|  5| 33|\n",
      "|  6| 33|\n",
      "|  7| 46|\n",
      "|  8| 25|\n",
      "|  9| 45|\n",
      "| 10| 42|\n",
      "| 11| 42|\n",
      "| 12| 30|\n",
      "| 13| 31|\n",
      "| 14| 36|\n",
      "| 15| 32|\n",
      "| 16| 32|\n",
      "| 17| 38|\n",
      "| 18| 25|\n",
      "| 19| 62|\n",
      "| 20| 61|\n",
      "+---+---+\n",
      "only showing top 20 rows\n",
      "\n"
     ]
    }
   ],
   "source": [
    "resultado = df_test.select(\"id\", \"age\")\n",
    "resultado.show()"
   ]
  },
  {
   "cell_type": "code",
   "execution_count": 33,
   "id": "27a28594-56b7-4efb-9910-d625c22e176d",
   "metadata": {},
   "outputs": [
    {
     "name": "stdout",
     "output_type": "stream",
     "text": [
      "+---+-------+---+\n",
      "| id|   name|age|\n",
      "+---+-------+---+\n",
      "|  2|  David| 36|\n",
      "|  5|  David| 33|\n",
      "|  6|  David| 33|\n",
      "|  7|  David| 46|\n",
      "|  8|  David| 25|\n",
      "| 10|  David| 42|\n",
      "| 12|Charlie| 30|\n",
      "| 14|  David| 36|\n",
      "| 15|Charlie| 32|\n",
      "| 19|Charlie| 62|\n",
      "| 21|Charlie| 45|\n",
      "| 22|  David| 62|\n",
      "| 23|  David| 33|\n",
      "| 24|Charlie| 41|\n",
      "| 33|  David| 19|\n",
      "| 35|  David| 34|\n",
      "| 37|Charlie| 44|\n",
      "| 38|  David| 20|\n",
      "| 39|  David| 35|\n",
      "| 41|Charlie| 56|\n",
      "+---+-------+---+\n",
      "only showing top 20 rows\n",
      "\n"
     ]
    }
   ],
   "source": [
    "#El nombre debe ser distinto de Alice y no debe contener la letra \"o\"\n",
    "resultado = df_test.filter((F.col(\"name\") != \"Alice\") & (~F.col(\"name\").like(\"%o%\")))\n",
    "resultado.show()"
   ]
  },
  {
   "cell_type": "code",
   "execution_count": 36,
   "id": "4a43dcff-6995-4699-94ef-d6e07238ae89",
   "metadata": {},
   "outputs": [
    {
     "name": "stdout",
     "output_type": "stream",
     "text": [
      "+---+-----+---+\n",
      "| id| name|age|\n",
      "+---+-----+---+\n",
      "| 56|Alice| 53|\n",
      "|118|Alice| 38|\n",
      "| 59|Alice| 45|\n",
      "|  4|Alice| 40|\n",
      "| 66|Alice| 41|\n",
      "| 16|Alice| 32|\n",
      "| 68|Alice| 56|\n",
      "| 18|Alice| 25|\n",
      "| 69|Alice| 48|\n",
      "| 30|Alice| 36|\n",
      "| 70|Alice| 29|\n",
      "| 34|Alice| 41|\n",
      "| 74|Alice| 27|\n",
      "| 43|Alice| 24|\n",
      "| 75|Alice| 41|\n",
      "| 96|Alice| 54|\n",
      "|100|Alice| 55|\n",
      "|  1|Alice| 61|\n",
      "|103|Alice| 40|\n",
      "| 17|Alice| 38|\n",
      "+---+-----+---+\n",
      "only showing top 20 rows\n",
      "\n"
     ]
    }
   ],
   "source": [
    "resultado = spark.sql(\"SELECT * FROM tabla_temp ORDER BY name\")\n",
    "resultado.show()"
   ]
  },
  {
   "cell_type": "code",
   "execution_count": 37,
   "id": "3992b36e-e105-4033-8086-bc62692d5bb1",
   "metadata": {},
   "outputs": [
    {
     "name": "stdout",
     "output_type": "stream",
     "text": [
      "+---+------+\n",
      "|age|conteo|\n",
      "+---+------+\n",
      "| 31|    32|\n",
      "| 53|    27|\n",
      "| 34|    38|\n",
      "| 28|    37|\n",
      "| 27|    28|\n",
      "| 26|    33|\n",
      "| 44|    32|\n",
      "| 22|    34|\n",
      "| 47|    41|\n",
      "| 52|    28|\n",
      "| 40|    31|\n",
      "| 20|    25|\n",
      "| 57|    34|\n",
      "| 54|    35|\n",
      "| 48|    37|\n",
      "| 19|    29|\n",
      "| 64|    30|\n",
      "| 41|    28|\n",
      "| 43|    32|\n",
      "| 37|    31|\n",
      "+---+------+\n",
      "only showing top 20 rows\n",
      "\n"
     ]
    }
   ],
   "source": [
    "resultado = spark.sql(\"SELECT age, COUNT(*) as conteo FROM tabla_temp GROUP BY age\")\n",
    "resultado.show()"
   ]
  },
  {
   "cell_type": "code",
   "execution_count": 38,
   "id": "5218e1c8-40f1-41ed-906b-a16c8554270e",
   "metadata": {},
   "outputs": [
    {
     "name": "stdout",
     "output_type": "stream",
     "text": [
      "+---------+\n",
      "|edad_prom|\n",
      "+---------+\n",
      "|   41.086|\n",
      "+---------+\n",
      "\n"
     ]
    }
   ],
   "source": [
    "resultado = spark.sql(\"SELECT AVG(age) as edad_prom FROM tabla_temp\")\n",
    "resultado.show()"
   ]
  },
  {
   "cell_type": "code",
   "execution_count": null,
   "id": "bea6302f-c35f-4d00-b687-28d4a2948851",
   "metadata": {},
   "outputs": [],
   "source": []
  },
  {
   "cell_type": "code",
   "execution_count": null,
   "id": "b3ebd264-2dc9-44d5-9507-3b47e6b66a3b",
   "metadata": {},
   "outputs": [],
   "source": []
  }
 ],
 "metadata": {
  "kernelspec": {
   "display_name": "Python 3 (ipykernel)",
   "language": "python",
   "name": "python3"
  },
  "language_info": {
   "codemirror_mode": {
    "name": "ipython",
    "version": 3
   },
   "file_extension": ".py",
   "mimetype": "text/x-python",
   "name": "python",
   "nbconvert_exporter": "python",
   "pygments_lexer": "ipython3",
   "version": "3.11.6"
  }
 },
 "nbformat": 4,
 "nbformat_minor": 5
}
