{
 "cells": [
  {
   "cell_type": "markdown",
   "id": "90afc7e7-dd44-4041-8d1d-bd3527ec8eb2",
   "metadata": {},
   "source": [
    "# Ejercicios en Pypsark y SQL"
   ]
  },
  {
   "cell_type": "code",
   "execution_count": 1,
   "id": "abb4c4c9-f801-4918-a692-3843a585259c",
   "metadata": {},
   "outputs": [],
   "source": [
    "import pyspark\n",
    "from pyspark.sql import SparkSession\n",
    "import pyspark.sql.functions as F\n",
    "from pyspark.sql.window import Window"
   ]
  },
  {
   "cell_type": "code",
   "execution_count": 2,
   "id": "03e9c259-81ed-4c77-bb00-3bdbca0daa92",
   "metadata": {},
   "outputs": [],
   "source": [
    "spark = SparkSession.builder.getOrCreate()"
   ]
  },
  {
   "cell_type": "raw",
   "id": "7b722115-5c77-4d5a-924b-9e99bbbaff60",
   "metadata": {},
   "source": [
    "Ejercicio 1: Cargar Datos desde CSV y Parquet\n",
    "Carga los datos desde los archivos data.csv y data.parquet en DataFrames de PySpark.\n",
    "Muestra las primeras 10 filas de cada DataFrame."
   ]
  },
  {
   "cell_type": "code",
   "execution_count": 3,
   "id": "c50f1476-e920-46af-b34e-bf495b102133",
   "metadata": {},
   "outputs": [
    {
     "name": "stdout",
     "output_type": "stream",
     "text": [
      "+---+-------+---+-----------+------+\n",
      "| id|   name|age|       city|salary|\n",
      "+---+-------+---+-----------+------+\n",
      "|  1|  Alice| 45|Los Angeles| 98205|\n",
      "|  2|Charlie| 35|    Houston| 90582|\n",
      "|  3|    Bob| 28|    Chicago| 82072|\n",
      "|  4|  David| 21|Los Angeles| 52764|\n",
      "|  5|    Bob| 53|   New York| 63448|\n",
      "|  6|    Bob| 50|    Chicago| 70690|\n",
      "|  7|  Alice| 20|   New York| 73682|\n",
      "|  8|  David| 33|    Houston| 88183|\n",
      "|  9|Charlie| 26|    Houston| 42488|\n",
      "| 10|  David| 34|    Chicago| 87400|\n",
      "+---+-------+---+-----------+------+\n",
      "only showing top 10 rows\n",
      "\n"
     ]
    }
   ],
   "source": [
    "csv = spark.read.csv(\"./data/data.csv\", header=True, inferSchema=True)\n",
    "csv.show(10)"
   ]
  },
  {
   "cell_type": "code",
   "execution_count": 4,
   "id": "72d2892f-2775-40e0-91e3-ea1b8f9ed382",
   "metadata": {},
   "outputs": [
    {
     "name": "stdout",
     "output_type": "stream",
     "text": [
      "+---+-------+---+-----------+------+\n",
      "| id|   name|age|       city|salary|\n",
      "+---+-------+---+-----------+------+\n",
      "|  1|  Alice| 45|Los Angeles| 98205|\n",
      "|  2|Charlie| 35|    Houston| 90582|\n",
      "|  3|    Bob| 28|    Chicago| 82072|\n",
      "|  4|  David| 21|Los Angeles| 52764|\n",
      "|  5|    Bob| 53|   New York| 63448|\n",
      "|  6|    Bob| 50|    Chicago| 70690|\n",
      "|  7|  Alice| 20|   New York| 73682|\n",
      "|  8|  David| 33|    Houston| 88183|\n",
      "|  9|Charlie| 26|    Houston| 42488|\n",
      "| 10|  David| 34|    Chicago| 87400|\n",
      "+---+-------+---+-----------+------+\n",
      "only showing top 10 rows\n",
      "\n"
     ]
    }
   ],
   "source": [
    "parquet = spark.read.parquet(\"./data/data.parquet\", header=True, inferSchema=True)\n",
    "parquet.show(10)"
   ]
  },
  {
   "cell_type": "raw",
   "id": "54dac459-5be2-4a22-b4d7-29c91540fe7c",
   "metadata": {},
   "source": [
    "Ejercicio 2: Filtrado de Datos\n",
    "Filtra los registros donde la edad es mayor a 40.\n",
    "Realiza el mismo filtrado utilizando SQL."
   ]
  },
  {
   "cell_type": "code",
   "execution_count": 5,
   "id": "ef55d582-0847-4973-bf25-9026a0af4f84",
   "metadata": {
    "scrolled": true
   },
   "outputs": [
    {
     "name": "stdout",
     "output_type": "stream",
     "text": [
      "+---+-------+---+-----------+------+\n",
      "| id|   name|age|       city|salary|\n",
      "+---+-------+---+-----------+------+\n",
      "|  1|  Alice| 45|Los Angeles| 98205|\n",
      "|  5|    Bob| 53|   New York| 63448|\n",
      "|  6|    Bob| 50|    Chicago| 70690|\n",
      "| 11|  Alice| 57|    Chicago| 69692|\n",
      "| 12|  Alice| 44|Los Angeles| 52611|\n",
      "| 13|    Bob| 53|    Houston| 69018|\n",
      "| 14|  David| 57|    Chicago| 66389|\n",
      "| 17|  Alice| 52|    Chicago| 31275|\n",
      "| 18|    Bob| 44|   New York| 56190|\n",
      "| 19|    Bob| 48|Los Angeles| 51606|\n",
      "| 20|Charlie| 56|    Chicago| 89405|\n",
      "| 21|  Alice| 54|    Chicago| 85145|\n",
      "| 22|    Bob| 52|   New York| 56649|\n",
      "| 23|    Bob| 54|Los Angeles| 33301|\n",
      "| 24|Charlie| 44|Los Angeles| 94318|\n",
      "| 27|  Alice| 54|Los Angeles| 79076|\n",
      "| 30|  David| 47|    Chicago| 64246|\n",
      "| 34|    Bob| 48|   New York| 37439|\n",
      "| 39|Charlie| 50|   New York| 94475|\n",
      "| 41|  David| 44|    Chicago| 82277|\n",
      "+---+-------+---+-----------+------+\n",
      "only showing top 20 rows\n",
      "\n"
     ]
    }
   ],
   "source": [
    "csv.filter(F.col(\"age\")>40).show()"
   ]
  },
  {
   "cell_type": "code",
   "execution_count": 6,
   "id": "47cb872c-5fb2-41ea-becd-e9de55321c06",
   "metadata": {
    "scrolled": true
   },
   "outputs": [
    {
     "name": "stdout",
     "output_type": "stream",
     "text": [
      "+---+-------+---+-----------+------+\n",
      "| id|   name|age|       city|salary|\n",
      "+---+-------+---+-----------+------+\n",
      "|  1|  Alice| 45|Los Angeles| 98205|\n",
      "|  5|    Bob| 53|   New York| 63448|\n",
      "|  6|    Bob| 50|    Chicago| 70690|\n",
      "| 11|  Alice| 57|    Chicago| 69692|\n",
      "| 12|  Alice| 44|Los Angeles| 52611|\n",
      "| 13|    Bob| 53|    Houston| 69018|\n",
      "| 14|  David| 57|    Chicago| 66389|\n",
      "| 17|  Alice| 52|    Chicago| 31275|\n",
      "| 18|    Bob| 44|   New York| 56190|\n",
      "| 19|    Bob| 48|Los Angeles| 51606|\n",
      "| 20|Charlie| 56|    Chicago| 89405|\n",
      "| 21|  Alice| 54|    Chicago| 85145|\n",
      "| 22|    Bob| 52|   New York| 56649|\n",
      "| 23|    Bob| 54|Los Angeles| 33301|\n",
      "| 24|Charlie| 44|Los Angeles| 94318|\n",
      "| 27|  Alice| 54|Los Angeles| 79076|\n",
      "| 30|  David| 47|    Chicago| 64246|\n",
      "| 34|    Bob| 48|   New York| 37439|\n",
      "| 39|Charlie| 50|   New York| 94475|\n",
      "| 41|  David| 44|    Chicago| 82277|\n",
      "+---+-------+---+-----------+------+\n",
      "only showing top 20 rows\n",
      "\n"
     ]
    }
   ],
   "source": [
    "csv.createOrReplaceTempView(\"personas\")\n",
    "filtrado_sql = spark.sql(\"SELECT * FROM personas WHERE age>40\")\n",
    "filtrado_sql.show()"
   ]
  },
  {
   "cell_type": "raw",
   "id": "e6e97444-6181-4403-9c20-7cc2bd52b92d",
   "metadata": {},
   "source": [
    "Ejercicio 3: Agregación\n",
    "Calcula el salario promedio por ciudad.\n",
    "Realiza la misma agregación utilizando SQL."
   ]
  },
  {
   "cell_type": "code",
   "execution_count": 7,
   "id": "1d31816a-b29d-4eb2-8924-ed6f3ee2c2e6",
   "metadata": {},
   "outputs": [
    {
     "name": "stdout",
     "output_type": "stream",
     "text": [
      "+-----------+------------------+\n",
      "|       city|       avg(salary)|\n",
      "+-----------+------------------+\n",
      "|Los Angeles|65268.515724027275|\n",
      "|    Chicago|  64844.2011753888|\n",
      "|    Houston|   64969.999360716|\n",
      "|   New York| 65033.62515482041|\n",
      "+-----------+------------------+\n",
      "\n"
     ]
    }
   ],
   "source": [
    "csv.groupBy(\"city\").avg(\"salary\").show()"
   ]
  },
  {
   "cell_type": "code",
   "execution_count": 8,
   "id": "4841e7ca-b2aa-498a-9f82-1000a03cdf87",
   "metadata": {},
   "outputs": [
    {
     "name": "stdout",
     "output_type": "stream",
     "text": [
      "+-----------+------------------+\n",
      "|       city|       prom_salary|\n",
      "+-----------+------------------+\n",
      "|Los Angeles|65268.515724027275|\n",
      "|    Chicago|  64844.2011753888|\n",
      "|    Houston|   64969.999360716|\n",
      "|   New York| 65033.62515482041|\n",
      "+-----------+------------------+\n",
      "\n"
     ]
    }
   ],
   "source": [
    "ciudades_sql = spark.sql(\"SELECT city, AVG(salary) as prom_salary FROM personas GROUP BY city\")\n",
    "ciudades_sql.show()"
   ]
  },
  {
   "cell_type": "raw",
   "id": "27ab2fd4-e285-4765-a37f-63c45190f2bb",
   "metadata": {},
   "source": [
    "Ejercicio 4: Agrupación Compleja\n",
    "Calcula el salario promedio y la edad promedio por ciudad y nombre.\n",
    "Realiza la misma operación utilizando SQL."
   ]
  },
  {
   "cell_type": "code",
   "execution_count": 9,
   "id": "8e13d416-4ffe-415c-9cef-4fbdfb668a14",
   "metadata": {},
   "outputs": [
    {
     "name": "stdout",
     "output_type": "stream",
     "text": [
      "+-----------+-------+------------------+------------------+\n",
      "|       city|   name|       avg(salary)|          avg(age)|\n",
      "+-----------+-------+------------------+------------------+\n",
      "|Los Angeles|  David|65390.802979336855| 39.58753804260772|\n",
      "|    Houston|Charlie| 65104.80758764207|39.279654234032336|\n",
      "|    Houston|  David|64892.271529411766| 39.36313725490196|\n",
      "|Los Angeles|  Alice| 65469.02425614489|39.364003880983184|\n",
      "|   New York|    Bob|64843.845139771285| 39.66073697585769|\n",
      "|Los Angeles|    Bob| 65006.71658179504| 39.52514322087842|\n",
      "|    Chicago|Charlie|  65236.3021777142|  39.4619297408997|\n",
      "|   New York|  Alice| 65010.17736087025|39.674286615166324|\n",
      "|Los Angeles|Charlie| 65210.91188293938| 39.26161762341212|\n",
      "|    Houston|    Bob| 64790.22002571521|39.518161362905815|\n",
      "|   New York|Charlie|65102.253031269945| 39.62188895979579|\n",
      "|    Chicago|  Alice| 64933.36254728878| 39.55343631778058|\n",
      "|    Chicago|  David| 64636.90771460783|39.432436785311644|\n",
      "|   New York|  David| 65182.82881411303| 39.47958183600131|\n",
      "|    Houston|  Alice|  65094.8303686934| 39.48415265200517|\n",
      "|    Chicago|    Bob| 64561.29275409305|39.548062895120765|\n",
      "+-----------+-------+------------------+------------------+\n",
      "\n"
     ]
    }
   ],
   "source": [
    "promedios = csv.groupBy(\"city\", \"name\").agg(F.avg(\"salary\"), F.avg(\"age\"))\n",
    "promedios.show()"
   ]
  },
  {
   "cell_type": "code",
   "execution_count": 10,
   "id": "827ba96a-c76d-473f-b4a8-054e23f17979",
   "metadata": {},
   "outputs": [
    {
     "name": "stdout",
     "output_type": "stream",
     "text": [
      "+-----------+-------+------------------+------------------+\n",
      "|       city|   name|       avg(salary)|          avg(age)|\n",
      "+-----------+-------+------------------+------------------+\n",
      "|Los Angeles|  David|65390.802979336855| 39.58753804260772|\n",
      "|    Houston|Charlie| 65104.80758764207|39.279654234032336|\n",
      "|    Houston|  David|64892.271529411766| 39.36313725490196|\n",
      "|Los Angeles|  Alice| 65469.02425614489|39.364003880983184|\n",
      "|   New York|    Bob|64843.845139771285| 39.66073697585769|\n",
      "|Los Angeles|    Bob| 65006.71658179504| 39.52514322087842|\n",
      "|    Chicago|Charlie|  65236.3021777142|  39.4619297408997|\n",
      "|   New York|  Alice| 65010.17736087025|39.674286615166324|\n",
      "|Los Angeles|Charlie| 65210.91188293938| 39.26161762341212|\n",
      "|    Houston|    Bob| 64790.22002571521|39.518161362905815|\n",
      "|   New York|Charlie|65102.253031269945| 39.62188895979579|\n",
      "|    Chicago|  Alice| 64933.36254728878| 39.55343631778058|\n",
      "|    Chicago|  David| 64636.90771460783|39.432436785311644|\n",
      "|   New York|  David| 65182.82881411303| 39.47958183600131|\n",
      "|    Houston|  Alice|  65094.8303686934| 39.48415265200517|\n",
      "|    Chicago|    Bob| 64561.29275409305|39.548062895120765|\n",
      "+-----------+-------+------------------+------------------+\n",
      "\n"
     ]
    }
   ],
   "source": [
    "promedios_sql = spark.sql(\"SELECT city, name, avg(salary), avg(age) FROM personas GROUP BY city, name\")\n",
    "promedios_sql.show()"
   ]
  },
  {
   "cell_type": "raw",
   "id": "3e243fad-797f-4db0-a2bd-71cfe77924c0",
   "metadata": {},
   "source": [
    "Ejercicio 5: Ordenación de Datos\n",
    "Ordena los datos por salario de forma descendente.\n",
    "Realiza la misma operación utilizando SQL."
   ]
  },
  {
   "cell_type": "code",
   "execution_count": 11,
   "id": "effb5c3e-c179-46fc-9969-d48427e8babb",
   "metadata": {
    "scrolled": true
   },
   "outputs": [
    {
     "name": "stdout",
     "output_type": "stream",
     "text": [
      "+-----+-------+---+-----------+------+\n",
      "|   id|   name|age|       city|salary|\n",
      "+-----+-------+---+-----------+------+\n",
      "|16169|Charlie| 35|    Chicago| 99998|\n",
      "| 9272|Charlie| 43|Los Angeles| 99997|\n",
      "|39554|  Alice| 31|Los Angeles| 99996|\n",
      "| 6889|    Bob| 26|    Chicago| 99995|\n",
      "|90318|  David| 20|Los Angeles| 99994|\n",
      "|59843|  David| 33|Los Angeles| 99992|\n",
      "|61997|Charlie| 22|    Chicago| 99992|\n",
      "|23172|    Bob| 54|    Chicago| 99991|\n",
      "|59778|Charlie| 55|    Houston| 99989|\n",
      "|41326|  David| 56|Los Angeles| 99989|\n",
      "|59801|  David| 57|Los Angeles| 99988|\n",
      "|90390|    Bob| 57|    Chicago| 99988|\n",
      "|14369|    Bob| 59|   New York| 99987|\n",
      "|47650|Charlie| 58|    Chicago| 99987|\n",
      "|56057|  Alice| 38|    Chicago| 99986|\n",
      "|37067|  David| 48|   New York| 99985|\n",
      "|55763|  Alice| 48|Los Angeles| 99985|\n",
      "| 7716|  David| 31|    Chicago| 99983|\n",
      "|25805|Charlie| 47|    Houston| 99983|\n",
      "|41636|  David| 28|   New York| 99983|\n",
      "+-----+-------+---+-----------+------+\n",
      "only showing top 20 rows\n",
      "\n"
     ]
    }
   ],
   "source": [
    "salarios = csv.orderBy(F.desc(\"salary\"))\n",
    "salarios.show()"
   ]
  },
  {
   "cell_type": "code",
   "execution_count": 12,
   "id": "fe245aa2-02c2-455d-bf25-79783e3c4974",
   "metadata": {},
   "outputs": [
    {
     "name": "stdout",
     "output_type": "stream",
     "text": [
      "+-----+-------+---+-----------+------+\n",
      "|   id|   name|age|       city|salary|\n",
      "+-----+-------+---+-----------+------+\n",
      "|16169|Charlie| 35|    Chicago| 99998|\n",
      "| 9272|Charlie| 43|Los Angeles| 99997|\n",
      "|39554|  Alice| 31|Los Angeles| 99996|\n",
      "| 6889|    Bob| 26|    Chicago| 99995|\n",
      "|90318|  David| 20|Los Angeles| 99994|\n",
      "|59843|  David| 33|Los Angeles| 99992|\n",
      "|61997|Charlie| 22|    Chicago| 99992|\n",
      "|23172|    Bob| 54|    Chicago| 99991|\n",
      "|59778|Charlie| 55|    Houston| 99989|\n",
      "|41326|  David| 56|Los Angeles| 99989|\n",
      "|59801|  David| 57|Los Angeles| 99988|\n",
      "|90390|    Bob| 57|    Chicago| 99988|\n",
      "|14369|    Bob| 59|   New York| 99987|\n",
      "|47650|Charlie| 58|    Chicago| 99987|\n",
      "|56057|  Alice| 38|    Chicago| 99986|\n",
      "|37067|  David| 48|   New York| 99985|\n",
      "|55763|  Alice| 48|Los Angeles| 99985|\n",
      "| 7716|  David| 31|    Chicago| 99983|\n",
      "|25805|Charlie| 47|    Houston| 99983|\n",
      "|41636|  David| 28|   New York| 99983|\n",
      "+-----+-------+---+-----------+------+\n",
      "only showing top 20 rows\n",
      "\n"
     ]
    }
   ],
   "source": [
    "salarios_sql = spark.sql(\"SELECT * FROM personas ORDER BY salary desc\")\n",
    "salarios_sql.show()"
   ]
  },
  {
   "cell_type": "raw",
   "id": "b723ab5a-abd8-427d-9342-9b3e93482563",
   "metadata": {},
   "source": [
    "Ejercicio 6: Creación de Nuevas Columnas\n",
    "Crea una nueva columna llamada salary_range que clasifique los salarios en rangos: \"Low\", \"Medium\", \"High\".\n",
    "Realiza lo mismo utilizando SQL."
   ]
  },
  {
   "cell_type": "code",
   "execution_count": 13,
   "id": "66a3fd3b-ca3a-4463-8e94-6c8a22e8dc5e",
   "metadata": {
    "scrolled": true
   },
   "outputs": [
    {
     "name": "stdout",
     "output_type": "stream",
     "text": [
      "+---+-------+---+-----------+------+------------+\n",
      "| id|   name|age|       city|salary|salary_range|\n",
      "+---+-------+---+-----------+------+------------+\n",
      "|  1|  Alice| 45|Los Angeles| 98205|        High|\n",
      "|  2|Charlie| 35|    Houston| 90582|        High|\n",
      "|  3|    Bob| 28|    Chicago| 82072|        High|\n",
      "|  4|  David| 21|Los Angeles| 52764|      Medium|\n",
      "|  5|    Bob| 53|   New York| 63448|      Medium|\n",
      "|  6|    Bob| 50|    Chicago| 70690|      Medium|\n",
      "|  7|  Alice| 20|   New York| 73682|      Medium|\n",
      "|  8|  David| 33|    Houston| 88183|        High|\n",
      "|  9|Charlie| 26|    Houston| 42488|         Low|\n",
      "| 10|  David| 34|    Chicago| 87400|        High|\n",
      "| 11|  Alice| 57|    Chicago| 69692|      Medium|\n",
      "| 12|  Alice| 44|Los Angeles| 52611|      Medium|\n",
      "| 13|    Bob| 53|    Houston| 69018|      Medium|\n",
      "| 14|  David| 57|    Chicago| 66389|      Medium|\n",
      "| 15|    Bob| 28|    Chicago| 71627|      Medium|\n",
      "| 16|  David| 37|   New York| 38964|         Low|\n",
      "| 17|  Alice| 52|    Chicago| 31275|         Low|\n",
      "| 18|    Bob| 44|   New York| 56190|      Medium|\n",
      "| 19|    Bob| 48|Los Angeles| 51606|      Medium|\n",
      "| 20|Charlie| 56|    Chicago| 89405|        High|\n",
      "+---+-------+---+-----------+------+------------+\n",
      "only showing top 20 rows\n",
      "\n"
     ]
    }
   ],
   "source": [
    "salary_range = csv.withColumn(\"salary_range\", F.when(F.col(\"salary\")<50000, \"Low\").when(F.col(\"salary\").between(50000, 75000), \"Medium\").otherwise(\"High\"))\n",
    "salary_range.show()"
   ]
  },
  {
   "cell_type": "code",
   "execution_count": 14,
   "id": "2b20c1f9-348d-4d53-a795-32217df9c6bf",
   "metadata": {},
   "outputs": [
    {
     "name": "stdout",
     "output_type": "stream",
     "text": [
      "+---+-------+---+-----------+------+------------+\n",
      "| id|   name|age|       city|salary|salary_range|\n",
      "+---+-------+---+-----------+------+------------+\n",
      "|  1|  Alice| 45|Los Angeles| 98205|        High|\n",
      "|  2|Charlie| 35|    Houston| 90582|        High|\n",
      "|  3|    Bob| 28|    Chicago| 82072|        High|\n",
      "|  4|  David| 21|Los Angeles| 52764|      Medium|\n",
      "|  5|    Bob| 53|   New York| 63448|      Medium|\n",
      "|  6|    Bob| 50|    Chicago| 70690|      Medium|\n",
      "|  7|  Alice| 20|   New York| 73682|      Medium|\n",
      "|  8|  David| 33|    Houston| 88183|        High|\n",
      "|  9|Charlie| 26|    Houston| 42488|         Low|\n",
      "| 10|  David| 34|    Chicago| 87400|        High|\n",
      "| 11|  Alice| 57|    Chicago| 69692|      Medium|\n",
      "| 12|  Alice| 44|Los Angeles| 52611|      Medium|\n",
      "| 13|    Bob| 53|    Houston| 69018|      Medium|\n",
      "| 14|  David| 57|    Chicago| 66389|      Medium|\n",
      "| 15|    Bob| 28|    Chicago| 71627|      Medium|\n",
      "| 16|  David| 37|   New York| 38964|         Low|\n",
      "| 17|  Alice| 52|    Chicago| 31275|         Low|\n",
      "| 18|    Bob| 44|   New York| 56190|      Medium|\n",
      "| 19|    Bob| 48|Los Angeles| 51606|      Medium|\n",
      "| 20|Charlie| 56|    Chicago| 89405|        High|\n",
      "+---+-------+---+-----------+------+------------+\n",
      "only showing top 20 rows\n",
      "\n"
     ]
    }
   ],
   "source": [
    "salary_range_sql = spark.sql(\"\"\"SELECT *, CASE WHEN salary <50000 THEN \"Low\"\n",
    "                                           WHEN salary BETWEEN 50000 AND 75000 THEN \"Medium\"\n",
    "                                           ELSE \"High\"\n",
    "                                           END as salary_range \n",
    "                            FROM personas\"\"\")\n",
    "salary_range_sql.show()"
   ]
  },
  {
   "cell_type": "raw",
   "id": "4a7872ee-5312-4657-b4eb-f44d7c7563b9",
   "metadata": {},
   "source": [
    "Ejercicio 7: Unión de DataFrames\n",
    "Divide el DataFrame original en dos: uno con id, name, age y otro con id, city, salary. Luego, únelos nuevamente por id.\n",
    "Realiza lo mismo utilizando SQL."
   ]
  },
  {
   "cell_type": "code",
   "execution_count": 15,
   "id": "ac3f5c8f-6943-4634-947b-a81b76bb1c1a",
   "metadata": {
    "scrolled": true
   },
   "outputs": [
    {
     "name": "stdout",
     "output_type": "stream",
     "text": [
      "+---+-------+---+\n",
      "| id|   name|age|\n",
      "+---+-------+---+\n",
      "|  1|  Alice| 45|\n",
      "|  2|Charlie| 35|\n",
      "|  3|    Bob| 28|\n",
      "|  4|  David| 21|\n",
      "|  5|    Bob| 53|\n",
      "|  6|    Bob| 50|\n",
      "|  7|  Alice| 20|\n",
      "|  8|  David| 33|\n",
      "|  9|Charlie| 26|\n",
      "| 10|  David| 34|\n",
      "| 11|  Alice| 57|\n",
      "| 12|  Alice| 44|\n",
      "| 13|    Bob| 53|\n",
      "| 14|  David| 57|\n",
      "| 15|    Bob| 28|\n",
      "| 16|  David| 37|\n",
      "| 17|  Alice| 52|\n",
      "| 18|    Bob| 44|\n",
      "| 19|    Bob| 48|\n",
      "| 20|Charlie| 56|\n",
      "+---+-------+---+\n",
      "only showing top 20 rows\n",
      "\n"
     ]
    }
   ],
   "source": [
    "primero = csv.select(\"id\", \"name\", \"age\")\n",
    "primero.show()"
   ]
  },
  {
   "cell_type": "code",
   "execution_count": 16,
   "id": "d762a674-1e45-45b9-893d-7f34f2b413af",
   "metadata": {
    "scrolled": true
   },
   "outputs": [
    {
     "name": "stdout",
     "output_type": "stream",
     "text": [
      "+---+-----------+------+\n",
      "| id|       city|salary|\n",
      "+---+-----------+------+\n",
      "|  1|Los Angeles| 98205|\n",
      "|  2|    Houston| 90582|\n",
      "|  3|    Chicago| 82072|\n",
      "|  4|Los Angeles| 52764|\n",
      "|  5|   New York| 63448|\n",
      "|  6|    Chicago| 70690|\n",
      "|  7|   New York| 73682|\n",
      "|  8|    Houston| 88183|\n",
      "|  9|    Houston| 42488|\n",
      "| 10|    Chicago| 87400|\n",
      "| 11|    Chicago| 69692|\n",
      "| 12|Los Angeles| 52611|\n",
      "| 13|    Houston| 69018|\n",
      "| 14|    Chicago| 66389|\n",
      "| 15|    Chicago| 71627|\n",
      "| 16|   New York| 38964|\n",
      "| 17|    Chicago| 31275|\n",
      "| 18|   New York| 56190|\n",
      "| 19|Los Angeles| 51606|\n",
      "| 20|    Chicago| 89405|\n",
      "+---+-----------+------+\n",
      "only showing top 20 rows\n",
      "\n"
     ]
    }
   ],
   "source": [
    "segundo = csv.select(\"id\", \"city\", \"salary\")\n",
    "segundo.show()"
   ]
  },
  {
   "cell_type": "code",
   "execution_count": 17,
   "id": "4af999b2-304b-4e3e-afdc-32a36e675006",
   "metadata": {},
   "outputs": [
    {
     "name": "stdout",
     "output_type": "stream",
     "text": [
      "+---+-------+---+---+-----------+------+\n",
      "| id|   name|age| id|       city|salary|\n",
      "+---+-------+---+---+-----------+------+\n",
      "|  1|  Alice| 45|  1|Los Angeles| 98205|\n",
      "|  2|Charlie| 35|  2|    Houston| 90582|\n",
      "|  3|    Bob| 28|  3|    Chicago| 82072|\n",
      "|  4|  David| 21|  4|Los Angeles| 52764|\n",
      "|  5|    Bob| 53|  5|   New York| 63448|\n",
      "|  6|    Bob| 50|  6|    Chicago| 70690|\n",
      "|  7|  Alice| 20|  7|   New York| 73682|\n",
      "|  8|  David| 33|  8|    Houston| 88183|\n",
      "|  9|Charlie| 26|  9|    Houston| 42488|\n",
      "| 10|  David| 34| 10|    Chicago| 87400|\n",
      "| 11|  Alice| 57| 11|    Chicago| 69692|\n",
      "| 12|  Alice| 44| 12|Los Angeles| 52611|\n",
      "| 13|    Bob| 53| 13|    Houston| 69018|\n",
      "| 14|  David| 57| 14|    Chicago| 66389|\n",
      "| 15|    Bob| 28| 15|    Chicago| 71627|\n",
      "| 16|  David| 37| 16|   New York| 38964|\n",
      "| 17|  Alice| 52| 17|    Chicago| 31275|\n",
      "| 18|    Bob| 44| 18|   New York| 56190|\n",
      "| 19|    Bob| 48| 19|Los Angeles| 51606|\n",
      "| 20|Charlie| 56| 20|    Chicago| 89405|\n",
      "+---+-------+---+---+-----------+------+\n",
      "only showing top 20 rows\n",
      "\n"
     ]
    }
   ],
   "source": [
    "completo = primero.join(segundo, primero.id == segundo.id, \"inner\")\n",
    "completo.show()"
   ]
  },
  {
   "cell_type": "code",
   "execution_count": 18,
   "id": "7af9eba4-8b39-4ac9-925f-5947628201a9",
   "metadata": {
    "scrolled": true
   },
   "outputs": [
    {
     "name": "stdout",
     "output_type": "stream",
     "text": [
      "+---+-------+---+-----------+------+\n",
      "| id|   name|age|       city|salary|\n",
      "+---+-------+---+-----------+------+\n",
      "|  1|  Alice| 45|Los Angeles| 98205|\n",
      "|  2|Charlie| 35|    Houston| 90582|\n",
      "|  3|    Bob| 28|    Chicago| 82072|\n",
      "|  4|  David| 21|Los Angeles| 52764|\n",
      "|  5|    Bob| 53|   New York| 63448|\n",
      "|  6|    Bob| 50|    Chicago| 70690|\n",
      "|  7|  Alice| 20|   New York| 73682|\n",
      "|  8|  David| 33|    Houston| 88183|\n",
      "|  9|Charlie| 26|    Houston| 42488|\n",
      "| 10|  David| 34|    Chicago| 87400|\n",
      "| 11|  Alice| 57|    Chicago| 69692|\n",
      "| 12|  Alice| 44|Los Angeles| 52611|\n",
      "| 13|    Bob| 53|    Houston| 69018|\n",
      "| 14|  David| 57|    Chicago| 66389|\n",
      "| 15|    Bob| 28|    Chicago| 71627|\n",
      "| 16|  David| 37|   New York| 38964|\n",
      "| 17|  Alice| 52|    Chicago| 31275|\n",
      "| 18|    Bob| 44|   New York| 56190|\n",
      "| 19|    Bob| 48|Los Angeles| 51606|\n",
      "| 20|Charlie| 56|    Chicago| 89405|\n",
      "+---+-------+---+-----------+------+\n",
      "only showing top 20 rows\n",
      "\n"
     ]
    }
   ],
   "source": [
    "completo = primero.join(segundo, on=\"id\") #poniendo el ON no se duplica la columna \"id\"\n",
    "completo.show()"
   ]
  },
  {
   "cell_type": "code",
   "execution_count": 46,
   "id": "21633375-e7d6-41d0-b679-5b309b3f2480",
   "metadata": {
    "scrolled": true
   },
   "outputs": [
    {
     "name": "stdout",
     "output_type": "stream",
     "text": [
      "+-------+-----------+---+\n",
      "|   name|       city| id|\n",
      "+-------+-----------+---+\n",
      "|  Alice|Los Angeles|  1|\n",
      "|Charlie|    Houston|  2|\n",
      "|    Bob|    Chicago|  3|\n",
      "|  David|Los Angeles|  4|\n",
      "|    Bob|   New York|  5|\n",
      "|    Bob|    Chicago|  6|\n",
      "|  Alice|   New York|  7|\n",
      "|  David|    Houston|  8|\n",
      "|Charlie|    Houston|  9|\n",
      "|  David|    Chicago| 10|\n",
      "|  Alice|    Chicago| 11|\n",
      "|  Alice|Los Angeles| 12|\n",
      "|    Bob|    Houston| 13|\n",
      "|  David|    Chicago| 14|\n",
      "|    Bob|    Chicago| 15|\n",
      "|  David|   New York| 16|\n",
      "|  Alice|    Chicago| 17|\n",
      "|    Bob|   New York| 18|\n",
      "|    Bob|Los Angeles| 19|\n",
      "|Charlie|    Chicago| 20|\n",
      "+-------+-----------+---+\n",
      "only showing top 20 rows\n",
      "\n"
     ]
    }
   ],
   "source": [
    "primero_sql = csv.select(\"id\", \"name\", \"age\")\n",
    "segundo_sql = csv.select(\"id\", \"city\", \"salary\")\n",
    "primero_sql.createOrReplaceTempView(\"primero\")\n",
    "segundo_sql.createOrReplaceTempView(\"segundo\")\n",
    "\n",
    "completo_sql = spark.sql(\"\"\"SELECT primero.name, segundo.city, primero.id\n",
    "                      FROM primero JOIN segundo ON primero.id == segundo.id\"\"\")\n",
    "completo_sql.show()"
   ]
  },
  {
   "cell_type": "raw",
   "id": "e8a44b22-0e21-4b7f-b2f5-70724b5f7299",
   "metadata": {},
   "source": [
    "Ejercicio 8: Eliminación de Duplicados\n",
    "Elimina los registros duplicados basados en el campo name.\n",
    "Realiza lo mismo utilizando SQL."
   ]
  },
  {
   "cell_type": "code",
   "execution_count": 23,
   "id": "d58f7859-08b4-42ed-8851-c2b05f5270e4",
   "metadata": {},
   "outputs": [
    {
     "name": "stdout",
     "output_type": "stream",
     "text": [
      "+---+-------+---+-----------+------+\n",
      "| id|   name|age|       city|salary|\n",
      "+---+-------+---+-----------+------+\n",
      "|  1|  Alice| 45|Los Angeles| 98205|\n",
      "|  3|    Bob| 28|    Chicago| 82072|\n",
      "|  2|Charlie| 35|    Houston| 90582|\n",
      "|  4|  David| 21|Los Angeles| 52764|\n",
      "+---+-------+---+-----------+------+\n",
      "\n"
     ]
    }
   ],
   "source": [
    "eliminados = csv.dropDuplicates([\"name\"])\n",
    "eliminados.show()"
   ]
  },
  {
   "cell_type": "code",
   "execution_count": 24,
   "id": "5fa81130-580f-4ecf-861f-7eb04aa939ae",
   "metadata": {
    "scrolled": true
   },
   "outputs": [
    {
     "name": "stdout",
     "output_type": "stream",
     "text": [
      "+-------+---+-----------+------+\n",
      "|   name|age|       city|salary|\n",
      "+-------+---+-----------+------+\n",
      "|  Alice| 33|    Houston| 84739|\n",
      "|Charlie| 35|   New York| 68443|\n",
      "|    Bob| 22|    Houston| 60637|\n",
      "|Charlie| 40|    Chicago| 37136|\n",
      "|    Bob| 53|    Chicago| 31953|\n",
      "|  Alice| 33|   New York| 59904|\n",
      "|    Bob| 32|    Houston| 43453|\n",
      "|  Alice| 55|    Chicago| 89385|\n",
      "|  Alice| 43|    Houston| 65244|\n",
      "|Charlie| 46|Los Angeles| 48673|\n",
      "|Charlie| 59|    Chicago| 89077|\n",
      "|  Alice| 37|    Houston| 79153|\n",
      "|    Bob| 25|Los Angeles| 63736|\n",
      "|  Alice| 59|    Houston| 55627|\n",
      "|    Bob| 20|    Houston| 45187|\n",
      "|  Alice| 28|Los Angeles| 77176|\n",
      "|  David| 49|    Chicago| 80437|\n",
      "|  David| 44|Los Angeles| 42327|\n",
      "|  David| 55|Los Angeles| 58963|\n",
      "|Charlie| 41|    Houston| 87406|\n",
      "+-------+---+-----------+------+\n",
      "only showing top 20 rows\n",
      "\n"
     ]
    }
   ],
   "source": [
    "eliminados_sql = spark.sql(\"SELECT DISTINCT name, age, city, salary FROM personas\")\n",
    "eliminados_sql.show()"
   ]
  },
  {
   "cell_type": "raw",
   "id": "6741f017-9ee7-45d4-b430-3586b920635e",
   "metadata": {},
   "source": [
    "Ejercicio 9: Manejo de Valores Nulos\n",
    "Reemplaza los valores nulos en la columna salary por el salario promedio.\n",
    "Realiza lo mismo utilizando SQL."
   ]
  },
  {
   "cell_type": "code",
   "execution_count": 25,
   "id": "da955d71-46bd-4b48-ba3c-0a5fe7232384",
   "metadata": {},
   "outputs": [
    {
     "data": {
      "text/plain": [
       "65028.87849"
      ]
     },
     "execution_count": 25,
     "metadata": {},
     "output_type": "execute_result"
    }
   ],
   "source": [
    "s_prom = csv.select(F.mean(F.col(\"salary\"))).collect()[0][0]\n",
    "s_prom"
   ]
  },
  {
   "cell_type": "code",
   "execution_count": 26,
   "id": "33ba8373-87d0-42a0-8e3f-9cf5102cc2f4",
   "metadata": {},
   "outputs": [
    {
     "name": "stdout",
     "output_type": "stream",
     "text": [
      "+---+-------+---+-----------+------+\n",
      "| id|   name|age|       city|salary|\n",
      "+---+-------+---+-----------+------+\n",
      "|  1|  Alice| 45|Los Angeles| 98205|\n",
      "|  2|Charlie| 35|    Houston| 90582|\n",
      "|  3|    Bob| 28|    Chicago| 82072|\n",
      "|  4|  David| 21|Los Angeles| 52764|\n",
      "|  5|    Bob| 53|   New York| 63448|\n",
      "|  6|    Bob| 50|    Chicago| 70690|\n",
      "|  7|  Alice| 20|   New York| 73682|\n",
      "|  8|  David| 33|    Houston| 88183|\n",
      "|  9|Charlie| 26|    Houston| 42488|\n",
      "| 10|  David| 34|    Chicago| 87400|\n",
      "| 11|  Alice| 57|    Chicago| 69692|\n",
      "| 12|  Alice| 44|Los Angeles| 52611|\n",
      "| 13|    Bob| 53|    Houston| 69018|\n",
      "| 14|  David| 57|    Chicago| 66389|\n",
      "| 15|    Bob| 28|    Chicago| 71627|\n",
      "| 16|  David| 37|   New York| 38964|\n",
      "| 17|  Alice| 52|    Chicago| 31275|\n",
      "| 18|    Bob| 44|   New York| 56190|\n",
      "| 19|    Bob| 48|Los Angeles| 51606|\n",
      "| 20|Charlie| 56|    Chicago| 89405|\n",
      "+---+-------+---+-----------+------+\n",
      "only showing top 20 rows\n",
      "\n"
     ]
    }
   ],
   "source": [
    "relleno = csv.na.fill({\"salary\": s_prom})\n",
    "relleno.show()"
   ]
  },
  {
   "cell_type": "code",
   "execution_count": 27,
   "id": "fe3d2bba-eca8-4f41-912b-b2a8c5332de3",
   "metadata": {
    "scrolled": true
   },
   "outputs": [
    {
     "name": "stdout",
     "output_type": "stream",
     "text": [
      "+---+-------+---+-----------+------+-----------+\n",
      "| id|   name|age|       city|salary|salary_prom|\n",
      "+---+-------+---+-----------+------+-----------+\n",
      "|  1|  Alice| 45|Los Angeles| 98205|98205.00000|\n",
      "|  2|Charlie| 35|    Houston| 90582|90582.00000|\n",
      "|  3|    Bob| 28|    Chicago| 82072|82072.00000|\n",
      "|  4|  David| 21|Los Angeles| 52764|52764.00000|\n",
      "|  5|    Bob| 53|   New York| 63448|63448.00000|\n",
      "|  6|    Bob| 50|    Chicago| 70690|70690.00000|\n",
      "|  7|  Alice| 20|   New York| 73682|73682.00000|\n",
      "|  8|  David| 33|    Houston| 88183|88183.00000|\n",
      "|  9|Charlie| 26|    Houston| 42488|42488.00000|\n",
      "| 10|  David| 34|    Chicago| 87400|87400.00000|\n",
      "| 11|  Alice| 57|    Chicago| 69692|69692.00000|\n",
      "| 12|  Alice| 44|Los Angeles| 52611|52611.00000|\n",
      "| 13|    Bob| 53|    Houston| 69018|69018.00000|\n",
      "| 14|  David| 57|    Chicago| 66389|66389.00000|\n",
      "| 15|    Bob| 28|    Chicago| 71627|71627.00000|\n",
      "| 16|  David| 37|   New York| 38964|38964.00000|\n",
      "| 17|  Alice| 52|    Chicago| 31275|31275.00000|\n",
      "| 18|    Bob| 44|   New York| 56190|56190.00000|\n",
      "| 19|    Bob| 48|Los Angeles| 51606|51606.00000|\n",
      "| 20|Charlie| 56|    Chicago| 89405|89405.00000|\n",
      "+---+-------+---+-----------+------+-----------+\n",
      "only showing top 20 rows\n",
      "\n"
     ]
    }
   ],
   "source": [
    "relleno_sql = spark.sql(f\"\"\"SELECT *, COALESCE (salary, {s_prom}) as salary_prom \n",
    "                        FROM personas\"\"\")\n",
    "relleno_sql.show()"
   ]
  },
  {
   "cell_type": "raw",
   "id": "983482b7-81fe-4f8f-be99-300c7f1479f9",
   "metadata": {},
   "source": [
    "Ejercicio 10: Conversión de Datos\n",
    "Convierte la columna age a tipo float.\n",
    "Realiza lo mismo utilizando SQL."
   ]
  },
  {
   "cell_type": "code",
   "execution_count": 28,
   "id": "f1eae45c-a1ad-41d2-bba9-cc95f4f077ae",
   "metadata": {
    "scrolled": true
   },
   "outputs": [
    {
     "name": "stdout",
     "output_type": "stream",
     "text": [
      "+---+-------+----+-----------+------+\n",
      "| id|   name| age|       city|salary|\n",
      "+---+-------+----+-----------+------+\n",
      "|  1|  Alice|45.0|Los Angeles| 98205|\n",
      "|  2|Charlie|35.0|    Houston| 90582|\n",
      "|  3|    Bob|28.0|    Chicago| 82072|\n",
      "|  4|  David|21.0|Los Angeles| 52764|\n",
      "|  5|    Bob|53.0|   New York| 63448|\n",
      "|  6|    Bob|50.0|    Chicago| 70690|\n",
      "|  7|  Alice|20.0|   New York| 73682|\n",
      "|  8|  David|33.0|    Houston| 88183|\n",
      "|  9|Charlie|26.0|    Houston| 42488|\n",
      "| 10|  David|34.0|    Chicago| 87400|\n",
      "| 11|  Alice|57.0|    Chicago| 69692|\n",
      "| 12|  Alice|44.0|Los Angeles| 52611|\n",
      "| 13|    Bob|53.0|    Houston| 69018|\n",
      "| 14|  David|57.0|    Chicago| 66389|\n",
      "| 15|    Bob|28.0|    Chicago| 71627|\n",
      "| 16|  David|37.0|   New York| 38964|\n",
      "| 17|  Alice|52.0|    Chicago| 31275|\n",
      "| 18|    Bob|44.0|   New York| 56190|\n",
      "| 19|    Bob|48.0|Los Angeles| 51606|\n",
      "| 20|Charlie|56.0|    Chicago| 89405|\n",
      "+---+-------+----+-----------+------+\n",
      "only showing top 20 rows\n",
      "\n"
     ]
    }
   ],
   "source": [
    "age_float = csv.withColumn(\"age\", F.col(\"age\").cast(\"float\"))\n",
    "age_float.show()"
   ]
  },
  {
   "cell_type": "code",
   "execution_count": 29,
   "id": "f52b91af-545b-4b0d-9233-414601877e8e",
   "metadata": {
    "scrolled": true
   },
   "outputs": [
    {
     "name": "stdout",
     "output_type": "stream",
     "text": [
      "+---+-------+---+-----------+------+----+\n",
      "| id|   name|age|       city|salary| age|\n",
      "+---+-------+---+-----------+------+----+\n",
      "|  1|  Alice| 45|Los Angeles| 98205|45.0|\n",
      "|  2|Charlie| 35|    Houston| 90582|35.0|\n",
      "|  3|    Bob| 28|    Chicago| 82072|28.0|\n",
      "|  4|  David| 21|Los Angeles| 52764|21.0|\n",
      "|  5|    Bob| 53|   New York| 63448|53.0|\n",
      "|  6|    Bob| 50|    Chicago| 70690|50.0|\n",
      "|  7|  Alice| 20|   New York| 73682|20.0|\n",
      "|  8|  David| 33|    Houston| 88183|33.0|\n",
      "|  9|Charlie| 26|    Houston| 42488|26.0|\n",
      "| 10|  David| 34|    Chicago| 87400|34.0|\n",
      "| 11|  Alice| 57|    Chicago| 69692|57.0|\n",
      "| 12|  Alice| 44|Los Angeles| 52611|44.0|\n",
      "| 13|    Bob| 53|    Houston| 69018|53.0|\n",
      "| 14|  David| 57|    Chicago| 66389|57.0|\n",
      "| 15|    Bob| 28|    Chicago| 71627|28.0|\n",
      "| 16|  David| 37|   New York| 38964|37.0|\n",
      "| 17|  Alice| 52|    Chicago| 31275|52.0|\n",
      "| 18|    Bob| 44|   New York| 56190|44.0|\n",
      "| 19|    Bob| 48|Los Angeles| 51606|48.0|\n",
      "| 20|Charlie| 56|    Chicago| 89405|56.0|\n",
      "+---+-------+---+-----------+------+----+\n",
      "only showing top 20 rows\n",
      "\n"
     ]
    }
   ],
   "source": [
    "age_float_sql = spark.sql(\"\"\"SELECT *, CAST(age AS FLOAT) FROM personas \"\"\")\n",
    "age_float_sql.show()"
   ]
  },
  {
   "cell_type": "raw",
   "id": "aff2e180-d3cd-490e-950c-d070cead40e4",
   "metadata": {},
   "source": [
    "Ejercicio 11: Análisis de Datos Estadísticos\n",
    "Calcula el salario máximo, mínimo, promedio y la desviación estándar.\n",
    "Realiza lo mismo utilizando SQL."
   ]
  },
  {
   "cell_type": "code",
   "execution_count": 30,
   "id": "e8842d0d-cc14-480a-82d5-f624b9307e2f",
   "metadata": {},
   "outputs": [
    {
     "name": "stdout",
     "output_type": "stream",
     "text": [
      "+-------+------------------+\n",
      "|summary|            salary|\n",
      "+-------+------------------+\n",
      "|  count|            100000|\n",
      "|   mean|       65028.87849|\n",
      "| stddev|20201.002317524464|\n",
      "|    min|             30000|\n",
      "|    max|             99998|\n",
      "+-------+------------------+\n",
      "\n"
     ]
    }
   ],
   "source": [
    "estadisticos = csv.select(\"salary\").describe()\n",
    "estadisticos.show()"
   ]
  },
  {
   "cell_type": "code",
   "execution_count": 31,
   "id": "f94e7dbe-a586-45e8-97f4-6ab5993f59d3",
   "metadata": {},
   "outputs": [
    {
     "name": "stdout",
     "output_type": "stream",
     "text": [
      "+----------+----------+-----------+------------------+\n",
      "|max_salary|min_salary|prom_salary|   desv_est_salary|\n",
      "+----------+----------+-----------+------------------+\n",
      "|     99998|     30000|65028.87849|20201.002317524464|\n",
      "+----------+----------+-----------+------------------+\n",
      "\n"
     ]
    }
   ],
   "source": [
    "stats = csv.agg(\n",
    "    F.max(\"salary\").alias(\"max_salary\"),\n",
    "    F.min(\"salary\").alias(\"min_salary\"),\n",
    "    F.avg(\"salary\").alias(\"prom_salary\"),\n",
    "    F.stddev(\"salary\").alias(\"desv_est_salary\")\n",
    ")\n",
    "stats.show()"
   ]
  },
  {
   "cell_type": "code",
   "execution_count": 32,
   "id": "d783adeb-8190-4fe0-a592-97cabbba8d05",
   "metadata": {},
   "outputs": [
    {
     "name": "stdout",
     "output_type": "stream",
     "text": [
      "+----------+----------+-----------+------------------+\n",
      "|max_salary|min_salary|prom_salary|   desv_est_salary|\n",
      "+----------+----------+-----------+------------------+\n",
      "|     99998|     30000|65028.87849|20201.002317524464|\n",
      "+----------+----------+-----------+------------------+\n",
      "\n"
     ]
    }
   ],
   "source": [
    "stats_sql = spark.sql(\"\"\"SELECT MAX(salary) as max_salary,\n",
    "                                MIN(salary) as min_salary,\n",
    "                                AVG(salary) as prom_salary,\n",
    "                                STDDEV(salary) as desv_est_salary\n",
    "                                FROM personas\n",
    "                                \"\"\")\n",
    "stats_sql.show()"
   ]
  },
  {
   "cell_type": "raw",
   "id": "a3f38334-b797-4ade-a3ab-413e2179c41a",
   "metadata": {},
   "source": [
    "Ejercicio 12: Aplicación de Funciones de Ventana\n",
    "Calcula el salario promedio por ciudad utilizando funciones de ventana.\n",
    "Realiza lo mismo utilizando SQL."
   ]
  },
  {
   "cell_type": "code",
   "execution_count": 34,
   "id": "ab2a9ea5-2620-44c2-bf5d-821aeedb82f6",
   "metadata": {
    "scrolled": true
   },
   "outputs": [
    {
     "name": "stdout",
     "output_type": "stream",
     "text": [
      "+---+-------+---+-------+------+----------------+\n",
      "| id|   name|age|   city|salary|          s_prom|\n",
      "+---+-------+---+-------+------+----------------+\n",
      "|  3|    Bob| 28|Chicago| 82072|64844.2011753888|\n",
      "|  6|    Bob| 50|Chicago| 70690|64844.2011753888|\n",
      "| 10|  David| 34|Chicago| 87400|64844.2011753888|\n",
      "| 11|  Alice| 57|Chicago| 69692|64844.2011753888|\n",
      "| 14|  David| 57|Chicago| 66389|64844.2011753888|\n",
      "| 15|    Bob| 28|Chicago| 71627|64844.2011753888|\n",
      "| 17|  Alice| 52|Chicago| 31275|64844.2011753888|\n",
      "| 20|Charlie| 56|Chicago| 89405|64844.2011753888|\n",
      "| 21|  Alice| 54|Chicago| 85145|64844.2011753888|\n",
      "| 30|  David| 47|Chicago| 64246|64844.2011753888|\n",
      "| 33|    Bob| 34|Chicago| 35519|64844.2011753888|\n",
      "| 40|Charlie| 21|Chicago| 43475|64844.2011753888|\n",
      "| 41|  David| 44|Chicago| 82277|64844.2011753888|\n",
      "| 44|Charlie| 42|Chicago| 53252|64844.2011753888|\n",
      "| 45|  Alice| 38|Chicago| 36914|64844.2011753888|\n",
      "| 50|  David| 27|Chicago| 42880|64844.2011753888|\n",
      "| 51|  David| 58|Chicago| 88499|64844.2011753888|\n",
      "| 56|    Bob| 26|Chicago| 88448|64844.2011753888|\n",
      "| 59|  Alice| 32|Chicago| 81977|64844.2011753888|\n",
      "| 63|  David| 32|Chicago| 83523|64844.2011753888|\n",
      "+---+-------+---+-------+------+----------------+\n",
      "only showing top 20 rows\n",
      "\n"
     ]
    }
   ],
   "source": [
    "ventana = Window.partitionBy(\"city\")\n",
    "s_promedio = csv.withColumn(\"s_prom\", F.avg(\"salary\").over(ventana))\n",
    "s_promedio.show()"
   ]
  },
  {
   "cell_type": "code",
   "execution_count": 35,
   "id": "a979c04c-d3af-46e7-a9cb-79ab4a930da0",
   "metadata": {
    "scrolled": true
   },
   "outputs": [
    {
     "name": "stdout",
     "output_type": "stream",
     "text": [
      "+---+-------+---+-------+------+----------------+\n",
      "| id|   name|age|   city|salary|          s_prom|\n",
      "+---+-------+---+-------+------+----------------+\n",
      "|  3|    Bob| 28|Chicago| 82072|64844.2011753888|\n",
      "|  6|    Bob| 50|Chicago| 70690|64844.2011753888|\n",
      "| 10|  David| 34|Chicago| 87400|64844.2011753888|\n",
      "| 11|  Alice| 57|Chicago| 69692|64844.2011753888|\n",
      "| 14|  David| 57|Chicago| 66389|64844.2011753888|\n",
      "| 15|    Bob| 28|Chicago| 71627|64844.2011753888|\n",
      "| 17|  Alice| 52|Chicago| 31275|64844.2011753888|\n",
      "| 20|Charlie| 56|Chicago| 89405|64844.2011753888|\n",
      "| 21|  Alice| 54|Chicago| 85145|64844.2011753888|\n",
      "| 30|  David| 47|Chicago| 64246|64844.2011753888|\n",
      "| 33|    Bob| 34|Chicago| 35519|64844.2011753888|\n",
      "| 40|Charlie| 21|Chicago| 43475|64844.2011753888|\n",
      "| 41|  David| 44|Chicago| 82277|64844.2011753888|\n",
      "| 44|Charlie| 42|Chicago| 53252|64844.2011753888|\n",
      "| 45|  Alice| 38|Chicago| 36914|64844.2011753888|\n",
      "| 50|  David| 27|Chicago| 42880|64844.2011753888|\n",
      "| 51|  David| 58|Chicago| 88499|64844.2011753888|\n",
      "| 56|    Bob| 26|Chicago| 88448|64844.2011753888|\n",
      "| 59|  Alice| 32|Chicago| 81977|64844.2011753888|\n",
      "| 63|  David| 32|Chicago| 83523|64844.2011753888|\n",
      "+---+-------+---+-------+------+----------------+\n",
      "only showing top 20 rows\n",
      "\n"
     ]
    }
   ],
   "source": [
    "ventana_sql = spark.sql(\"\"\" SELECT *, \n",
    "                            AVG(salary) OVER (PARTITION BY city) as s_prom \n",
    "                            FROM personas \"\"\")\n",
    "ventana_sql.show()"
   ]
  },
  {
   "cell_type": "raw",
   "id": "c7530144-d3f0-45ec-9481-b3d1ba2d7195",
   "metadata": {},
   "source": [
    "Ejercicio 13: Pivotar DataFrames\n",
    "Realiza un pivot table para ver el salario promedio por city y name.\n",
    "Realiza lo mismo utilizando SQL."
   ]
  },
  {
   "cell_type": "code",
   "execution_count": 38,
   "id": "e349ecc9-f367-4444-a4bd-975026ca586e",
   "metadata": {},
   "outputs": [
    {
     "name": "stdout",
     "output_type": "stream",
     "text": [
      "+-----------+-----------------+------------------+------------------+------------------+\n",
      "|       city|            Alice|               Bob|           Charlie|             David|\n",
      "+-----------+-----------------+------------------+------------------+------------------+\n",
      "|Los Angeles|65469.02425614489| 65006.71658179504| 65210.91188293938|65390.802979336855|\n",
      "|    Chicago|64933.36254728878| 64561.29275409305|  65236.3021777142| 64636.90771460783|\n",
      "|    Houston| 65094.8303686934| 64790.22002571521| 65104.80758764207|64892.271529411766|\n",
      "|   New York|65010.17736087025|64843.845139771285|65102.253031269945| 65182.82881411303|\n",
      "+-----------+-----------------+------------------+------------------+------------------+\n",
      "\n"
     ]
    }
   ],
   "source": [
    "pivot = csv.groupBy(\"city\").pivot(\"name\").agg(F.avg(\"salary\"))\n",
    "pivot.show()"
   ]
  },
  {
   "cell_type": "code",
   "execution_count": 40,
   "id": "e616e21b-3102-4825-b9d1-f7664df07d6f",
   "metadata": {},
   "outputs": [
    {
     "name": "stdout",
     "output_type": "stream",
     "text": [
      "+-----------+-----------------+------------------+------------------+------------------+\n",
      "|       city|     Alice_s_prom|        Bob_s_prom|    Charlie_s_prom|      David_s_prom|\n",
      "+-----------+-----------------+------------------+------------------+------------------+\n",
      "|Los Angeles|65469.02425614489| 65006.71658179504| 65210.91188293938|65390.802979336855|\n",
      "|    Chicago|64933.36254728878| 64561.29275409305|  65236.3021777142| 64636.90771460783|\n",
      "|    Houston| 65094.8303686934| 64790.22002571521| 65104.80758764207|64892.271529411766|\n",
      "|   New York|65010.17736087025|64843.845139771285|65102.253031269945| 65182.82881411303|\n",
      "+-----------+-----------------+------------------+------------------+------------------+\n",
      "\n"
     ]
    }
   ],
   "source": [
    "pivot_sql = spark.sql(\"\"\" SELECT city, \n",
    "                          AVG(CASE WHEN name = 'Alice' THEN salary END) as Alice_s_prom, \n",
    "                          AVG(CASE WHEN name = 'Bob' THEN salary END) as Bob_s_prom,\n",
    "                          AVG(CASE WHEN name = 'Charlie' THEN salary END) as Charlie_s_prom,\n",
    "                          AVG(CASE WHEN name = 'David' THEN salary END) as David_s_prom\n",
    "                          FROM personas\n",
    "                          GROUP BY city\"\"\")\n",
    "pivot_sql.show()"
   ]
  },
  {
   "cell_type": "raw",
   "id": "206a7531-3860-4690-bc9e-46f6b8c8283e",
   "metadata": {},
   "source": [
    "Ejercicio 14: Joins Avanzados\n",
    "Realiza un left join entre dos DataFrames creados previamente.\n",
    "Realiza lo mismo utilizando SQL."
   ]
  },
  {
   "cell_type": "code",
   "execution_count": 44,
   "id": "5065fb8b-e36b-489d-aa6e-1a3a9f2c0b1d",
   "metadata": {},
   "outputs": [
    {
     "name": "stdout",
     "output_type": "stream",
     "text": [
      "+---+-------+---+-----------+------+\n",
      "| id|   name|age|       city|salary|\n",
      "+---+-------+---+-----------+------+\n",
      "|  1|  Alice| 45|Los Angeles| 98205|\n",
      "|  2|Charlie| 35|    Houston| 90582|\n",
      "|  3|    Bob| 28|    Chicago| 82072|\n",
      "|  4|  David| 21|Los Angeles| 52764|\n",
      "|  5|    Bob| 53|   New York| 63448|\n",
      "|  6|    Bob| 50|    Chicago| 70690|\n",
      "|  7|  Alice| 20|   New York| 73682|\n",
      "|  8|  David| 33|    Houston| 88183|\n",
      "|  9|Charlie| 26|    Houston| 42488|\n",
      "| 10|  David| 34|    Chicago| 87400|\n",
      "| 11|  Alice| 57|    Chicago| 69692|\n",
      "| 12|  Alice| 44|Los Angeles| 52611|\n",
      "| 13|    Bob| 53|    Houston| 69018|\n",
      "| 14|  David| 57|    Chicago| 66389|\n",
      "| 15|    Bob| 28|    Chicago| 71627|\n",
      "| 16|  David| 37|   New York| 38964|\n",
      "| 17|  Alice| 52|    Chicago| 31275|\n",
      "| 18|    Bob| 44|   New York| 56190|\n",
      "| 19|    Bob| 48|Los Angeles| 51606|\n",
      "| 20|Charlie| 56|    Chicago| 89405|\n",
      "+---+-------+---+-----------+------+\n",
      "only showing top 20 rows\n",
      "\n"
     ]
    }
   ],
   "source": [
    "completo_left = primero.join(segundo, on =\"id\", how=\"left\")\n",
    "completo_left.show()"
   ]
  },
  {
   "cell_type": "raw",
   "id": "e409ffb5-b574-4973-b8ce-886cd41f5f6d",
   "metadata": {},
   "source": [
    "Más info sobre joins: https://sparkbyexamples.com/pyspark/pyspark-join-explained-with-examples/"
   ]
  },
  {
   "cell_type": "code",
   "execution_count": 53,
   "id": "a1bbcdd4-1576-4f04-af38-fe9fd9b5fcbd",
   "metadata": {},
   "outputs": [],
   "source": [
    "uno_sql = csv.select(\"id\", \"name\", \"age\")\n",
    "dos_sql = csv.select(\"id\", \"city\", \"salary\")\n",
    "\n",
    "uno_sql.createOrReplaceTempView(\"uno\")\n",
    "dos_sql.createOrReplaceTempView(\"dos\")"
   ]
  },
  {
   "cell_type": "code",
   "execution_count": 56,
   "id": "7af32418-d985-4434-b2e0-eeaaf5ce49c9",
   "metadata": {
    "scrolled": true
   },
   "outputs": [
    {
     "name": "stdout",
     "output_type": "stream",
     "text": [
      "+-------+-----------+---+\n",
      "|   name|       city| id|\n",
      "+-------+-----------+---+\n",
      "|  Alice|Los Angeles|  1|\n",
      "|Charlie|    Houston|  2|\n",
      "|    Bob|    Chicago|  3|\n",
      "|  David|Los Angeles|  4|\n",
      "|    Bob|   New York|  5|\n",
      "|    Bob|    Chicago|  6|\n",
      "|  Alice|   New York|  7|\n",
      "|  David|    Houston|  8|\n",
      "|Charlie|    Houston|  9|\n",
      "|  David|    Chicago| 10|\n",
      "|  Alice|    Chicago| 11|\n",
      "|  Alice|Los Angeles| 12|\n",
      "|    Bob|    Houston| 13|\n",
      "|  David|    Chicago| 14|\n",
      "|    Bob|    Chicago| 15|\n",
      "|  David|   New York| 16|\n",
      "|  Alice|    Chicago| 17|\n",
      "|    Bob|   New York| 18|\n",
      "|    Bob|Los Angeles| 19|\n",
      "|Charlie|    Chicago| 20|\n",
      "+-------+-----------+---+\n",
      "only showing top 20 rows\n",
      "\n"
     ]
    }
   ],
   "source": [
    "completo_left_sql = spark.sql(\"\"\" SELECT uno.name, dos.city, uno.id\n",
    "                                  FROM uno\n",
    "                                  LEFT JOIN dos ON uno.id = dos.id \"\"\")\n",
    "completo_left_sql.show()"
   ]
  },
  {
   "cell_type": "raw",
   "id": "d1771902-d980-4241-bfd8-b41303a4d596",
   "metadata": {},
   "source": [
    "Ejercicio 15: Explode de Columnas\n",
    "Crea una columna con una lista de valores y luego explótala en filas individuales.\n",
    "Realiza lo mismo utilizando SQL."
   ]
  },
  {
   "cell_type": "code",
   "execution_count": 58,
   "id": "f63d5e62-c07b-469f-bef0-8c28fe54635b",
   "metadata": {},
   "outputs": [
    {
     "name": "stdout",
     "output_type": "stream",
     "text": [
      "+---+-------+---+-----------+------+---------+\n",
      "| id|   name|age|       city|salary|  Nombres|\n",
      "+---+-------+---+-----------+------+---------+\n",
      "|  1|  Alice| 45|Los Angeles| 98205|  [Alice]|\n",
      "|  2|Charlie| 35|    Houston| 90582|[Charlie]|\n",
      "|  3|    Bob| 28|    Chicago| 82072|    [Bob]|\n",
      "|  4|  David| 21|Los Angeles| 52764|  [David]|\n",
      "|  5|    Bob| 53|   New York| 63448|    [Bob]|\n",
      "|  6|    Bob| 50|    Chicago| 70690|    [Bob]|\n",
      "|  7|  Alice| 20|   New York| 73682|  [Alice]|\n",
      "|  8|  David| 33|    Houston| 88183|  [David]|\n",
      "|  9|Charlie| 26|    Houston| 42488|[Charlie]|\n",
      "| 10|  David| 34|    Chicago| 87400|  [David]|\n",
      "| 11|  Alice| 57|    Chicago| 69692|  [Alice]|\n",
      "| 12|  Alice| 44|Los Angeles| 52611|  [Alice]|\n",
      "| 13|    Bob| 53|    Houston| 69018|    [Bob]|\n",
      "| 14|  David| 57|    Chicago| 66389|  [David]|\n",
      "| 15|    Bob| 28|    Chicago| 71627|    [Bob]|\n",
      "| 16|  David| 37|   New York| 38964|  [David]|\n",
      "| 17|  Alice| 52|    Chicago| 31275|  [Alice]|\n",
      "| 18|    Bob| 44|   New York| 56190|    [Bob]|\n",
      "| 19|    Bob| 48|Los Angeles| 51606|    [Bob]|\n",
      "| 20|Charlie| 56|    Chicago| 89405|[Charlie]|\n",
      "+---+-------+---+-----------+------+---------+\n",
      "only showing top 20 rows\n",
      "\n"
     ]
    }
   ],
   "source": [
    "listado = csv.withColumn(\"Nombres\", F.split(F.col(\"name\"), \"-\"))\n",
    "listado.show()"
   ]
  },
  {
   "cell_type": "code",
   "execution_count": 59,
   "id": "bfa48d83-0707-45a6-84f0-f6ee3a60394c",
   "metadata": {
    "scrolled": true
   },
   "outputs": [
    {
     "name": "stdout",
     "output_type": "stream",
     "text": [
      "+---+-------+---+-----------+------+---------+-----------+\n",
      "| id|   name|age|       city|salary|  Nombres|Nombres pum|\n",
      "+---+-------+---+-----------+------+---------+-----------+\n",
      "|  1|  Alice| 45|Los Angeles| 98205|  [Alice]|      Alice|\n",
      "|  2|Charlie| 35|    Houston| 90582|[Charlie]|    Charlie|\n",
      "|  3|    Bob| 28|    Chicago| 82072|    [Bob]|        Bob|\n",
      "|  4|  David| 21|Los Angeles| 52764|  [David]|      David|\n",
      "|  5|    Bob| 53|   New York| 63448|    [Bob]|        Bob|\n",
      "|  6|    Bob| 50|    Chicago| 70690|    [Bob]|        Bob|\n",
      "|  7|  Alice| 20|   New York| 73682|  [Alice]|      Alice|\n",
      "|  8|  David| 33|    Houston| 88183|  [David]|      David|\n",
      "|  9|Charlie| 26|    Houston| 42488|[Charlie]|    Charlie|\n",
      "| 10|  David| 34|    Chicago| 87400|  [David]|      David|\n",
      "| 11|  Alice| 57|    Chicago| 69692|  [Alice]|      Alice|\n",
      "| 12|  Alice| 44|Los Angeles| 52611|  [Alice]|      Alice|\n",
      "| 13|    Bob| 53|    Houston| 69018|    [Bob]|        Bob|\n",
      "| 14|  David| 57|    Chicago| 66389|  [David]|      David|\n",
      "| 15|    Bob| 28|    Chicago| 71627|    [Bob]|        Bob|\n",
      "| 16|  David| 37|   New York| 38964|  [David]|      David|\n",
      "| 17|  Alice| 52|    Chicago| 31275|  [Alice]|      Alice|\n",
      "| 18|    Bob| 44|   New York| 56190|    [Bob]|        Bob|\n",
      "| 19|    Bob| 48|Los Angeles| 51606|    [Bob]|        Bob|\n",
      "| 20|Charlie| 56|    Chicago| 89405|[Charlie]|    Charlie|\n",
      "+---+-------+---+-----------+------+---------+-----------+\n",
      "only showing top 20 rows\n",
      "\n"
     ]
    }
   ],
   "source": [
    "explosion = listado.withColumn(\"Nombres pum\", F.explode(F.col(\"Nombres\")))\n",
    "explosion.show()"
   ]
  },
  {
   "cell_type": "raw",
   "id": "8ce456cb-5cc1-4afc-a9b6-46ca4975d6af",
   "metadata": {},
   "source": [
    "Más info sobre explode: https://sparkbyexamples.com/pyspark/pyspark-explode-array-and-map-columns-to-rows/"
   ]
  },
  {
   "cell_type": "code",
   "execution_count": 62,
   "id": "0278c602-a8cd-4933-aed7-05e1a9b28da9",
   "metadata": {
    "scrolled": true
   },
   "outputs": [
    {
     "name": "stdout",
     "output_type": "stream",
     "text": [
      "+---+-------+---+-----------+------+------------+\n",
      "| id|   name|age|       city|salary|nombres_expl|\n",
      "+---+-------+---+-----------+------+------------+\n",
      "|  1|  Alice| 45|Los Angeles| 98205|       Alice|\n",
      "|  2|Charlie| 35|    Houston| 90582|     Charlie|\n",
      "|  3|    Bob| 28|    Chicago| 82072|         Bob|\n",
      "|  4|  David| 21|Los Angeles| 52764|       David|\n",
      "|  5|    Bob| 53|   New York| 63448|         Bob|\n",
      "|  6|    Bob| 50|    Chicago| 70690|         Bob|\n",
      "|  7|  Alice| 20|   New York| 73682|       Alice|\n",
      "|  8|  David| 33|    Houston| 88183|       David|\n",
      "|  9|Charlie| 26|    Houston| 42488|     Charlie|\n",
      "| 10|  David| 34|    Chicago| 87400|       David|\n",
      "| 11|  Alice| 57|    Chicago| 69692|       Alice|\n",
      "| 12|  Alice| 44|Los Angeles| 52611|       Alice|\n",
      "| 13|    Bob| 53|    Houston| 69018|         Bob|\n",
      "| 14|  David| 57|    Chicago| 66389|       David|\n",
      "| 15|    Bob| 28|    Chicago| 71627|         Bob|\n",
      "| 16|  David| 37|   New York| 38964|       David|\n",
      "| 17|  Alice| 52|    Chicago| 31275|       Alice|\n",
      "| 18|    Bob| 44|   New York| 56190|         Bob|\n",
      "| 19|    Bob| 48|Los Angeles| 51606|         Bob|\n",
      "| 20|Charlie| 56|    Chicago| 89405|     Charlie|\n",
      "+---+-------+---+-----------+------+------------+\n",
      "only showing top 20 rows\n",
      "\n"
     ]
    }
   ],
   "source": [
    "listado_sql = spark.sql(\"SELECT *, SPLIT(name, ',') FROM personas\")\n",
    "explosion_sql = spark.sql(\"SELECT *, EXPLODE(SPLIT(name, ',')) as nombres_expl FROM personas\")\n",
    "explosion_sql.show()"
   ]
  },
  {
   "cell_type": "raw",
   "id": "acd66efa-66c1-433d-932a-75a5b4d28621",
   "metadata": {},
   "source": [
    "Ejercicio 16: Creación de DataFrames a partir de JSON\n",
    "Crea un DataFrame a partir de un archivo JSON generado con datos similares al CSV.\n",
    "Realiza consultas SQL sobre el DataFrame."
   ]
  },
  {
   "cell_type": "code",
   "execution_count": 64,
   "id": "12cc8135-a783-4c81-9eaf-50f0a4ae7331",
   "metadata": {
    "scrolled": true
   },
   "outputs": [
    {
     "name": "stdout",
     "output_type": "stream",
     "text": [
      "+---+------+--------------+---------+-------------+\n",
      "|Age|Gender|        Height|     Name|       Weight|\n",
      "+---+------+--------------+---------+-------------+\n",
      "| 42|  Male|173.1080003313| Santiago|84.0929337303|\n",
      "| 40|Female|183.3381094765|   Martín|70.5996907081|\n",
      "| 57|  Male|157.4917543892|   Miguel|70.1042839761|\n",
      "| 63|Female|193.7021285076|  Gonzalo|65.6092609194|\n",
      "| 72|  Male|150.1650602517|     Juan|73.1779033685|\n",
      "| 56|Female|180.8417615332|  Gabriel| 69.996318682|\n",
      "| 74|  Male|172.7050887788|  Beatriz|74.7531546739|\n",
      "| 61|Female|165.3600443377|   Vanesa| 51.019898216|\n",
      "| 28|  Male|184.0369379815|  Agustín|82.1466031125|\n",
      "| 79|Female|150.3962651097|Elizabeth|56.6157624012|\n",
      "| 39|Female|159.6807616619|    Ailén|71.5668292692|\n",
      "| 64|Female|172.6796469505|Elizabeth|61.1621114246|\n",
      "| 19|  Male|168.0551115101|   Carlos|61.6563798291|\n",
      "| 47|Female|157.1945884327|  Luciana|78.6749731216|\n",
      "| 47|  Male|178.7326391494|    Sofía|97.4625988168|\n",
      "| 77|Female|164.5070877048|  Facundo|82.3950452225|\n",
      "| 53|  Male|182.6149462603|  Facundo|71.9000351794|\n",
      "| 55|Female|159.7694254588|  Mariana|90.0028081564|\n",
      "| 37|  Male|150.4123972918|   Andrés|68.3696137171|\n",
      "| 36|Female|152.7363813014|   Lorena|51.7963718759|\n",
      "+---+------+--------------+---------+-------------+\n",
      "only showing top 20 rows\n",
      "\n"
     ]
    }
   ],
   "source": [
    "json = spark.read.json(\"./data/people_data.json\")\n",
    "json.show()"
   ]
  },
  {
   "cell_type": "code",
   "execution_count": 69,
   "id": "74469afe-3230-4397-b7c2-5d7104c709bc",
   "metadata": {},
   "outputs": [],
   "source": [
    "json_sql = json.createOrReplaceTempView(\"datos_personales\")"
   ]
  },
  {
   "cell_type": "code",
   "execution_count": 68,
   "id": "93551de8-a2e1-4210-a2a5-3fe7aaf1fc15",
   "metadata": {
    "scrolled": true
   },
   "outputs": [
    {
     "name": "stdout",
     "output_type": "stream",
     "text": [
      "+---+------+--------------+---------+-------------+\n",
      "|Age|Gender|        Height|     Name|       Weight|\n",
      "+---+------+--------------+---------+-------------+\n",
      "| 42|  Male|173.1080003313| Santiago|84.0929337303|\n",
      "| 40|Female|183.3381094765|   Martín|70.5996907081|\n",
      "| 57|  Male|157.4917543892|   Miguel|70.1042839761|\n",
      "| 63|Female|193.7021285076|  Gonzalo|65.6092609194|\n",
      "| 72|  Male|150.1650602517|     Juan|73.1779033685|\n",
      "| 56|Female|180.8417615332|  Gabriel| 69.996318682|\n",
      "| 74|  Male|172.7050887788|  Beatriz|74.7531546739|\n",
      "| 61|Female|165.3600443377|   Vanesa| 51.019898216|\n",
      "| 28|  Male|184.0369379815|  Agustín|82.1466031125|\n",
      "| 79|Female|150.3962651097|Elizabeth|56.6157624012|\n",
      "| 39|Female|159.6807616619|    Ailén|71.5668292692|\n",
      "| 64|Female|172.6796469505|Elizabeth|61.1621114246|\n",
      "| 19|  Male|168.0551115101|   Carlos|61.6563798291|\n",
      "| 47|Female|157.1945884327|  Luciana|78.6749731216|\n",
      "| 47|  Male|178.7326391494|    Sofía|97.4625988168|\n",
      "| 77|Female|164.5070877048|  Facundo|82.3950452225|\n",
      "| 53|  Male|182.6149462603|  Facundo|71.9000351794|\n",
      "| 55|Female|159.7694254588|  Mariana|90.0028081564|\n",
      "| 37|  Male|150.4123972918|   Andrés|68.3696137171|\n",
      "| 36|Female|152.7363813014|   Lorena|51.7963718759|\n",
      "+---+------+--------------+---------+-------------+\n",
      "only showing top 20 rows\n",
      "\n"
     ]
    }
   ],
   "source": [
    "consulta1 = spark.sql(\"\"\" SELECT * FROM datos_personales \"\"\")\n",
    "consulta1.show()"
   ]
  },
  {
   "cell_type": "code",
   "execution_count": 71,
   "id": "cdb95d67-fcc8-4d9a-9c1f-78d639672bb8",
   "metadata": {},
   "outputs": [
    {
     "name": "stdout",
     "output_type": "stream",
     "text": [
      "+---+--------+-------------+--------------+\n",
      "|Age|    Name|       Weight|        Height|\n",
      "+---+--------+-------------+--------------+\n",
      "| 70|Santiago|50.0008737169|199.5028926439|\n",
      "| 67| Gonzalo|50.0020737988|199.1935857788|\n",
      "| 72|  Javier|50.0026378154|163.2403254242|\n",
      "| 29| Agustín|50.0030051322|172.6609588698|\n",
      "| 39|  Marcos|50.0032266126|161.8195709842|\n",
      "| 22|   Jorge|50.0032572915|161.6509415655|\n",
      "| 55| Roberto|50.0038209674| 176.056363331|\n",
      "| 77|   Ailén|50.0038900259|192.5748101075|\n",
      "| 74|  Lorena|50.0041132399|196.5235303932|\n",
      "| 61|  Javier|50.0046147379| 173.011958326|\n",
      "| 56| Agustín|50.0051439249| 183.302055732|\n",
      "| 70|   Jorge|50.0054086465|179.8459758842|\n",
      "| 36|   Diego|50.0058798068|190.4226423708|\n",
      "| 43|   Sofía|50.0065110147| 198.182545408|\n",
      "| 68| Natalia|50.0067199858|198.1217197109|\n",
      "| 43|  Camila|50.0081365167|184.7325328493|\n",
      "| 23|  Daniel|50.0081821236|167.8365237979|\n",
      "| 40|  Andrés|50.0086503137|163.0373225465|\n",
      "| 66| Ricardo|50.0091074113|161.0079533761|\n",
      "| 56|   Mateo|50.0100387108|190.0757758608|\n",
      "+---+--------+-------------+--------------+\n",
      "only showing top 20 rows\n",
      "\n"
     ]
    }
   ],
   "source": [
    "consulta2 = spark.sql(\"\"\" SELECT Age, Name, Weight, Height\n",
    "                          FROM datos_personales\n",
    "                          WHERE Height > 160\n",
    "                          ORDER BY Weight\"\"\")\n",
    "consulta2.show()"
   ]
  },
  {
   "cell_type": "raw",
   "id": "17723d8c-8b63-4580-8875-da83077b6270",
   "metadata": {},
   "source": [
    "Ejercicio 17: Manejo de Fechas\n",
    "Crea una nueva columna con una fecha aleatoria y luego realiza operaciones de manipulación de fechas (ej. agregar días).\n",
    "Realiza lo mismo utilizando SQL."
   ]
  },
  {
   "cell_type": "code",
   "execution_count": 78,
   "id": "8df4d3d5-0512-498b-b8ce-e117806053b9",
   "metadata": {
    "scrolled": true
   },
   "outputs": [
    {
     "name": "stdout",
     "output_type": "stream",
     "text": [
      "+---+-------+---+-----------+------+----------+\n",
      "| id|   name|age|       city|salary|     fecha|\n",
      "+---+-------+---+-----------+------+----------+\n",
      "|  1|  Alice| 45|Los Angeles| 98205|2024-08-09|\n",
      "|  2|Charlie| 35|    Houston| 90582|2024-08-09|\n",
      "|  3|    Bob| 28|    Chicago| 82072|2024-08-09|\n",
      "|  4|  David| 21|Los Angeles| 52764|2024-08-09|\n",
      "|  5|    Bob| 53|   New York| 63448|2024-08-09|\n",
      "|  6|    Bob| 50|    Chicago| 70690|2024-08-09|\n",
      "|  7|  Alice| 20|   New York| 73682|2024-08-09|\n",
      "|  8|  David| 33|    Houston| 88183|2024-08-09|\n",
      "|  9|Charlie| 26|    Houston| 42488|2024-08-09|\n",
      "| 10|  David| 34|    Chicago| 87400|2024-08-09|\n",
      "| 11|  Alice| 57|    Chicago| 69692|2024-08-09|\n",
      "| 12|  Alice| 44|Los Angeles| 52611|2024-08-09|\n",
      "| 13|    Bob| 53|    Houston| 69018|2024-08-09|\n",
      "| 14|  David| 57|    Chicago| 66389|2024-08-09|\n",
      "| 15|    Bob| 28|    Chicago| 71627|2024-08-09|\n",
      "| 16|  David| 37|   New York| 38964|2024-08-09|\n",
      "| 17|  Alice| 52|    Chicago| 31275|2024-08-09|\n",
      "| 18|    Bob| 44|   New York| 56190|2024-08-09|\n",
      "| 19|    Bob| 48|Los Angeles| 51606|2024-08-09|\n",
      "| 20|Charlie| 56|    Chicago| 89405|2024-08-09|\n",
      "+---+-------+---+-----------+------+----------+\n",
      "only showing top 20 rows\n",
      "\n"
     ]
    }
   ],
   "source": [
    "fechas = csv.withColumn(\"fecha\", F.current_date())\n",
    "fechas.show()"
   ]
  },
  {
   "cell_type": "code",
   "execution_count": 81,
   "id": "26540e52-f572-471f-9825-27c8a91396c8",
   "metadata": {},
   "outputs": [
    {
     "name": "stdout",
     "output_type": "stream",
     "text": [
      "+---+-------+---+-----------+------+----------+----------+\n",
      "| id|   name|age|       city|salary|     fecha|    futuro|\n",
      "+---+-------+---+-----------+------+----------+----------+\n",
      "|  1|  Alice| 45|Los Angeles| 98205|2024-08-09|2024-08-19|\n",
      "|  2|Charlie| 35|    Houston| 90582|2024-08-09|2024-08-19|\n",
      "|  3|    Bob| 28|    Chicago| 82072|2024-08-09|2024-08-19|\n",
      "|  4|  David| 21|Los Angeles| 52764|2024-08-09|2024-08-19|\n",
      "|  5|    Bob| 53|   New York| 63448|2024-08-09|2024-08-19|\n",
      "|  6|    Bob| 50|    Chicago| 70690|2024-08-09|2024-08-19|\n",
      "|  7|  Alice| 20|   New York| 73682|2024-08-09|2024-08-19|\n",
      "|  8|  David| 33|    Houston| 88183|2024-08-09|2024-08-19|\n",
      "|  9|Charlie| 26|    Houston| 42488|2024-08-09|2024-08-19|\n",
      "| 10|  David| 34|    Chicago| 87400|2024-08-09|2024-08-19|\n",
      "| 11|  Alice| 57|    Chicago| 69692|2024-08-09|2024-08-19|\n",
      "| 12|  Alice| 44|Los Angeles| 52611|2024-08-09|2024-08-19|\n",
      "| 13|    Bob| 53|    Houston| 69018|2024-08-09|2024-08-19|\n",
      "| 14|  David| 57|    Chicago| 66389|2024-08-09|2024-08-19|\n",
      "| 15|    Bob| 28|    Chicago| 71627|2024-08-09|2024-08-19|\n",
      "| 16|  David| 37|   New York| 38964|2024-08-09|2024-08-19|\n",
      "| 17|  Alice| 52|    Chicago| 31275|2024-08-09|2024-08-19|\n",
      "| 18|    Bob| 44|   New York| 56190|2024-08-09|2024-08-19|\n",
      "| 19|    Bob| 48|Los Angeles| 51606|2024-08-09|2024-08-19|\n",
      "| 20|Charlie| 56|    Chicago| 89405|2024-08-09|2024-08-19|\n",
      "+---+-------+---+-----------+------+----------+----------+\n",
      "only showing top 20 rows\n",
      "\n"
     ]
    }
   ],
   "source": [
    "fechas = fechas.withColumn(\"futuro\", F.date_add(F.col(\"fecha\"), 10))\n",
    "fechas.show()"
   ]
  },
  {
   "cell_type": "raw",
   "id": "6f77c046-2d23-4936-a2cf-243c2e16b77b",
   "metadata": {},
   "source": [
    "Más info sobre fechas: https://medium.com/@uzzaman.ahmed/pyspark-date-time-functions-a-comprehensive-guide-b250e92df264"
   ]
  },
  {
   "cell_type": "code",
   "execution_count": 86,
   "id": "2a9a8cb5-5d60-47fd-999d-35032d6edaa9",
   "metadata": {},
   "outputs": [
    {
     "name": "stdout",
     "output_type": "stream",
     "text": [
      "+---+------+--------------+---------+-------------+----------+----------+\n",
      "|Age|Gender|        Height|     Name|       Weight|       hoy|en_10_dias|\n",
      "+---+------+--------------+---------+-------------+----------+----------+\n",
      "| 42|  Male|173.1080003313| Santiago|84.0929337303|2024-08-09|2024-08-19|\n",
      "| 40|Female|183.3381094765|   Martín|70.5996907081|2024-08-09|2024-08-19|\n",
      "| 57|  Male|157.4917543892|   Miguel|70.1042839761|2024-08-09|2024-08-19|\n",
      "| 63|Female|193.7021285076|  Gonzalo|65.6092609194|2024-08-09|2024-08-19|\n",
      "| 72|  Male|150.1650602517|     Juan|73.1779033685|2024-08-09|2024-08-19|\n",
      "| 56|Female|180.8417615332|  Gabriel| 69.996318682|2024-08-09|2024-08-19|\n",
      "| 74|  Male|172.7050887788|  Beatriz|74.7531546739|2024-08-09|2024-08-19|\n",
      "| 61|Female|165.3600443377|   Vanesa| 51.019898216|2024-08-09|2024-08-19|\n",
      "| 28|  Male|184.0369379815|  Agustín|82.1466031125|2024-08-09|2024-08-19|\n",
      "| 79|Female|150.3962651097|Elizabeth|56.6157624012|2024-08-09|2024-08-19|\n",
      "| 39|Female|159.6807616619|    Ailén|71.5668292692|2024-08-09|2024-08-19|\n",
      "| 64|Female|172.6796469505|Elizabeth|61.1621114246|2024-08-09|2024-08-19|\n",
      "| 19|  Male|168.0551115101|   Carlos|61.6563798291|2024-08-09|2024-08-19|\n",
      "| 47|Female|157.1945884327|  Luciana|78.6749731216|2024-08-09|2024-08-19|\n",
      "| 47|  Male|178.7326391494|    Sofía|97.4625988168|2024-08-09|2024-08-19|\n",
      "| 77|Female|164.5070877048|  Facundo|82.3950452225|2024-08-09|2024-08-19|\n",
      "| 53|  Male|182.6149462603|  Facundo|71.9000351794|2024-08-09|2024-08-19|\n",
      "| 55|Female|159.7694254588|  Mariana|90.0028081564|2024-08-09|2024-08-19|\n",
      "| 37|  Male|150.4123972918|   Andrés|68.3696137171|2024-08-09|2024-08-19|\n",
      "| 36|Female|152.7363813014|   Lorena|51.7963718759|2024-08-09|2024-08-19|\n",
      "+---+------+--------------+---------+-------------+----------+----------+\n",
      "only showing top 20 rows\n",
      "\n"
     ]
    }
   ],
   "source": [
    "fechas_sql = spark.sql(\"\"\" SELECT *, \n",
    "                           CURRENT_DATE as hoy, \n",
    "                           DATE_ADD(CURRENT_DATE, 10) as en_10_dias\n",
    "                           FROM datos_personales\"\"\")\n",
    "fechas_sql.show()"
   ]
  },
  {
   "cell_type": "raw",
   "id": "6de019e4-d1b8-45e8-9a3c-7afa1f65c713",
   "metadata": {},
   "source": [
    "Ejercicio 18: Agrupación con condiciones\n",
    "Agrupa los datos por ciudad y nombre, pero solo para registros donde el salario es mayor a 50,000.\n",
    "Realiza lo mismo utilizando SQL."
   ]
  },
  {
   "cell_type": "code",
   "execution_count": 95,
   "id": "e6b2a34a-f0b8-4f4b-bdc6-e31f76094b1d",
   "metadata": {},
   "outputs": [
    {
     "name": "stdout",
     "output_type": "stream",
     "text": [
      "+-----------+-------+-----------------+\n",
      "|       city|   name|           s_prom|\n",
      "+-----------+-------+-----------------+\n",
      "|Los Angeles|  David|75038.81898454746|\n",
      "|    Houston|Charlie|75132.93897240296|\n",
      "|    Houston|  David|74791.36401490247|\n",
      "|Los Angeles|  Alice|75217.04523063144|\n",
      "|   New York|    Bob|74886.95874219447|\n",
      "|Los Angeles|    Bob|74688.70011025359|\n",
      "|    Chicago|Charlie|75181.29809818664|\n",
      "|   New York|  Alice|75296.81935197515|\n",
      "|Los Angeles|Charlie|74981.22405713011|\n",
      "|    Houston|    Bob|74725.10063176895|\n",
      "|   New York|Charlie|74918.03466666667|\n",
      "|    Chicago|  Alice|75198.00289467824|\n",
      "|    Chicago|  David|74864.17159763313|\n",
      "|   New York|  David|75111.63967242948|\n",
      "|    Houston|  Alice|75275.12979351032|\n",
      "|    Chicago|    Bob|  74619.704498744|\n",
      "+-----------+-------+-----------------+\n",
      "\n"
     ]
    }
   ],
   "source": [
    "agrupacion = csv.filter(F.col(\"salary\")>50000).groupBy(\"city\", \"name\").agg(F.avg(\"salary\").alias(\"s_prom\"))\n",
    "agrupacion.show()"
   ]
  },
  {
   "cell_type": "code",
   "execution_count": 96,
   "id": "b6bebff5-33da-4dc7-b15c-31ff5c68c26d",
   "metadata": {},
   "outputs": [
    {
     "name": "stdout",
     "output_type": "stream",
     "text": [
      "+---+-----+---+-------+------+\n",
      "| id| name|age|   city|salary|\n",
      "+---+-----+---+-------+------+\n",
      "|333|Alice| 46|Chicago| 83182|\n",
      "|920|Alice| 20|Chicago| 51230|\n",
      "|389|Alice| 31|Chicago| 61346|\n",
      "| 11|Alice| 57|Chicago| 69692|\n",
      "|394|Alice| 27|Chicago| 84152|\n",
      "| 59|Alice| 32|Chicago| 81977|\n",
      "|423|Alice| 56|Chicago| 60912|\n",
      "| 86|Alice| 40|Chicago| 79070|\n",
      "|430|Alice| 54|Chicago| 83492|\n",
      "|284|Alice| 45|Chicago| 96552|\n",
      "|483|Alice| 56|Chicago| 89070|\n",
      "|119|Alice| 33|Chicago| 72687|\n",
      "|507|Alice| 25|Chicago| 86839|\n",
      "|195|Alice| 56|Chicago| 97033|\n",
      "|571|Alice| 37|Chicago| 99720|\n",
      "|198|Alice| 23|Chicago| 59124|\n",
      "|602|Alice| 44|Chicago| 97192|\n",
      "|730|Alice| 49|Chicago| 52886|\n",
      "|915|Alice| 58|Chicago| 71892|\n",
      "|758|Alice| 31|Chicago| 71406|\n",
      "+---+-----+---+-------+------+\n",
      "only showing top 20 rows\n",
      "\n"
     ]
    }
   ],
   "source": [
    "agrupacion_sql = spark.sql(\"\"\" SELECT * FROM personas WHERE salary >50000 ORDER BY city, name\"\"\")\n",
    "agrupacion_sql.show()"
   ]
  },
  {
   "cell_type": "raw",
   "id": "01257175-2e42-4a0e-8982-1e62fbf5ecb4",
   "metadata": {},
   "source": [
    "Ejercicio 19: Creación de Funciones UDF\n",
    "Crea una función UDF para categorizar edades (ej. 'Joven', 'Adulto', 'Mayor').\n",
    "Utiliza la UDF en una consulta SQL."
   ]
  },
  {
   "cell_type": "code",
   "execution_count": 103,
   "id": "5a782539-bfa5-4ed4-a0bd-c133391d1e84",
   "metadata": {},
   "outputs": [],
   "source": [
    "from pyspark.sql.types import StringType"
   ]
  },
  {
   "cell_type": "code",
   "execution_count": 104,
   "id": "a0d9410a-950e-4eb6-87f6-da1d69314af1",
   "metadata": {
    "scrolled": true
   },
   "outputs": [
    {
     "name": "stdout",
     "output_type": "stream",
     "text": [
      "+---+-------+---+-----------+------+-----------------+\n",
      "| id|   name|age|       city|salary|categorias_edades|\n",
      "+---+-------+---+-----------+------+-----------------+\n",
      "|  1|  Alice| 45|Los Angeles| 98205|           Adulto|\n",
      "|  2|Charlie| 35|    Houston| 90582|           Adulto|\n",
      "|  3|    Bob| 28|    Chicago| 82072|            Joven|\n",
      "|  4|  David| 21|Los Angeles| 52764|            Joven|\n",
      "|  5|    Bob| 53|   New York| 63448|            Mayor|\n",
      "|  6|    Bob| 50|    Chicago| 70690|            Mayor|\n",
      "|  7|  Alice| 20|   New York| 73682|            Joven|\n",
      "|  8|  David| 33|    Houston| 88183|           Adulto|\n",
      "|  9|Charlie| 26|    Houston| 42488|            Joven|\n",
      "| 10|  David| 34|    Chicago| 87400|           Adulto|\n",
      "| 11|  Alice| 57|    Chicago| 69692|            Mayor|\n",
      "| 12|  Alice| 44|Los Angeles| 52611|           Adulto|\n",
      "| 13|    Bob| 53|    Houston| 69018|            Mayor|\n",
      "| 14|  David| 57|    Chicago| 66389|            Mayor|\n",
      "| 15|    Bob| 28|    Chicago| 71627|            Joven|\n",
      "| 16|  David| 37|   New York| 38964|           Adulto|\n",
      "| 17|  Alice| 52|    Chicago| 31275|            Mayor|\n",
      "| 18|    Bob| 44|   New York| 56190|           Adulto|\n",
      "| 19|    Bob| 48|Los Angeles| 51606|           Adulto|\n",
      "| 20|Charlie| 56|    Chicago| 89405|            Mayor|\n",
      "+---+-------+---+-----------+------+-----------------+\n",
      "only showing top 20 rows\n",
      "\n"
     ]
    }
   ],
   "source": [
    "def categorias_edades(age):\n",
    "    if age < 30:\n",
    "        return \"Joven\"\n",
    "    elif age < 50:\n",
    "        return \"Adulto\"\n",
    "    else:\n",
    "        return \"Mayor\"\n",
    "\n",
    "edades_udf = F.udf(categorias_edades, StringType())\n",
    "categorias_edades_df = csv.withColumn(\"categorias_edades\", edades_udf(F.col(\"age\")))\n",
    "categorias_edades_df.show()"
   ]
  },
  {
   "cell_type": "code",
   "execution_count": 106,
   "id": "580b4c21-23b2-4da7-a53e-53e6f58ab3ab",
   "metadata": {},
   "outputs": [
    {
     "name": "stdout",
     "output_type": "stream",
     "text": [
      "+---+-------+---+-----------+------+------------+\n",
      "| id|   name|age|       city|salary|age_category|\n",
      "+---+-------+---+-----------+------+------------+\n",
      "|  1|  Alice| 45|Los Angeles| 98205|      Adulto|\n",
      "|  2|Charlie| 35|    Houston| 90582|      Adulto|\n",
      "|  3|    Bob| 28|    Chicago| 82072|       Joven|\n",
      "|  4|  David| 21|Los Angeles| 52764|       Joven|\n",
      "|  5|    Bob| 53|   New York| 63448|       Mayor|\n",
      "|  6|    Bob| 50|    Chicago| 70690|       Mayor|\n",
      "|  7|  Alice| 20|   New York| 73682|       Joven|\n",
      "|  8|  David| 33|    Houston| 88183|      Adulto|\n",
      "|  9|Charlie| 26|    Houston| 42488|       Joven|\n",
      "| 10|  David| 34|    Chicago| 87400|      Adulto|\n",
      "| 11|  Alice| 57|    Chicago| 69692|       Mayor|\n",
      "| 12|  Alice| 44|Los Angeles| 52611|      Adulto|\n",
      "| 13|    Bob| 53|    Houston| 69018|       Mayor|\n",
      "| 14|  David| 57|    Chicago| 66389|       Mayor|\n",
      "| 15|    Bob| 28|    Chicago| 71627|       Joven|\n",
      "| 16|  David| 37|   New York| 38964|      Adulto|\n",
      "| 17|  Alice| 52|    Chicago| 31275|       Mayor|\n",
      "| 18|    Bob| 44|   New York| 56190|      Adulto|\n",
      "| 19|    Bob| 48|Los Angeles| 51606|      Adulto|\n",
      "| 20|Charlie| 56|    Chicago| 89405|       Mayor|\n",
      "+---+-------+---+-----------+------+------------+\n",
      "only showing top 20 rows\n",
      "\n"
     ]
    }
   ],
   "source": [
    "spark.udf.register(\"edades_udf_sql\", categorias_edades, StringType())\n",
    "\n",
    "categorias_sql = spark.sql(\"\"\" SELECT *, edades_udf_sql(age) as age_category FROM personas \"\"\")\n",
    "categorias_sql.show()"
   ]
  },
  {
   "cell_type": "raw",
   "id": "da0df565-a124-4cfd-a34f-4d81d19ede01",
   "metadata": {},
   "source": [
    "Más info sobre spark.udf.register: "
   ]
  },
  {
   "cell_type": "raw",
   "id": "941670ce-9b19-4b0f-87ea-ef42b3e9b3b7",
   "metadata": {},
   "source": [
    "Ejercicio 20: Guardado de Resultados\n",
    "Guarda los resultados de cualquier consulta en un nuevo archivo Parquet.\n",
    "Realiza lo mismo utilizando SQL."
   ]
  },
  {
   "cell_type": "code",
   "execution_count": 107,
   "id": "42b5a214-44d3-4f77-8f4c-bc833c6c4d6f",
   "metadata": {},
   "outputs": [],
   "source": [
    "parquet_file = categorias_edades_df.write.parquet(\"./data/parquet_personas.parquet\")"
   ]
  },
  {
   "cell_type": "code",
   "execution_count": 108,
   "id": "8d506db8-6fa8-41a9-a63f-e971cd4469d3",
   "metadata": {},
   "outputs": [],
   "source": [
    "parquet_sql = categorias_sql.write.parquet(\"./data/edades.parquet\")"
   ]
  }
 ],
 "metadata": {
  "kernelspec": {
   "display_name": "Python 3 (ipykernel)",
   "language": "python",
   "name": "python3"
  },
  "language_info": {
   "codemirror_mode": {
    "name": "ipython",
    "version": 3
   },
   "file_extension": ".py",
   "mimetype": "text/x-python",
   "name": "python",
   "nbconvert_exporter": "python",
   "pygments_lexer": "ipython3",
   "version": "3.11.6"
  }
 },
 "nbformat": 4,
 "nbformat_minor": 5
}
